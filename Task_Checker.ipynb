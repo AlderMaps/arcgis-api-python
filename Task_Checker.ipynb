{
 "cells": [
  {
   "cell_type": "code",
   "execution_count": null,
   "id": "6698d82d",
   "metadata": {},
   "outputs": [],
   "source": [
    "import requests\n",
    "\n",
    "from arcgis.gis import GIS\n",
    "from arcgis.gis import admin\n",
    "\n",
    "gis = GIS(\"home\")\n",
    "\n",
    "me = gis.users."
   ]
  },
  {
   "cell_type": "code",
   "execution_count": null,
   "id": "ea591fc9",
   "metadata": {},
   "outputs": [
    {
     "ename": "AttributeError",
     "evalue": "'generator' object has no attribute 'properties'",
     "output_type": "error",
     "traceback": [
      "\u001b[1;31m---------------------------------------------------------------------------\u001b[0m",
      "\u001b[1;31mAttributeError\u001b[0m                            Traceback (most recent call last)",
      "Cell \u001b[1;32mIn[24], line 3\u001b[0m\n\u001b[0;32m      1\u001b[0m scheduled_tasks \u001b[38;5;241m=\u001b[39m gis\u001b[38;5;241m.\u001b[39madmin\u001b[38;5;241m.\u001b[39mscheduled_tasks(gis\u001b[38;5;241m.\u001b[39mproperties\u001b[38;5;241m.\u001b[39muser)\n\u001b[1;32m----> 3\u001b[0m scheduled_tasks\u001b[38;5;241m.\u001b[39mproperties\n",
      "\u001b[1;31mAttributeError\u001b[0m: 'generator' object has no attribute 'properties'"
     ]
    }
   ],
   "source": [
    "scheduled_tasks = gis.admin.scheduled_tasks(gis.properties.user)\n",
    "\n",
    "scheduled_tasks"
   ]
  },
  {
   "cell_type": "code",
   "execution_count": null,
   "id": "029d5a26",
   "metadata": {},
   "outputs": [
    {
     "data": {
      "text/plain": [
       "arcgis.gis.tasks._schedule.TaskManager"
      ]
     },
     "execution_count": 13,
     "metadata": {},
     "output_type": "execute_result"
    }
   ],
   "source": []
  },
  {
   "cell_type": "code",
   "execution_count": null,
   "id": "0de8b31a",
   "metadata": {},
   "outputs": [],
   "source": []
  },
  {
   "cell_type": "code",
   "execution_count": null,
   "id": "51332190",
   "metadata": {},
   "outputs": [],
   "source": [
    "payload = {\n",
    "    \"subject\": \"Subject\",\n",
    "    \"body\": \"Body\",\n",
    "}\n"
   ]
  },
  {
   "cell_type": "markdown",
   "id": "554263aa",
   "metadata": {},
   "source": [
    "### Send the payload to the webhook endpoint URL"
   ]
  },
  {
   "cell_type": "code",
   "execution_count": null,
   "id": "01f421d2",
   "metadata": {},
   "outputs": [],
   "source": [
    "response = requests.post(webhook_url, json=payload)"
   ]
  }
 ],
 "metadata": {
  "kernelspec": {
   "display_name": "arcgispro-py3",
   "language": "python",
   "name": "python3"
  },
  "language_info": {
   "codemirror_mode": {
    "name": "ipython",
    "version": 3
   },
   "file_extension": ".py",
   "mimetype": "text/x-python",
   "name": "python",
   "nbconvert_exporter": "python",
   "pygments_lexer": "ipython3",
   "version": "3.11.11"
  }
 },
 "nbformat": 4,
 "nbformat_minor": 5
}
