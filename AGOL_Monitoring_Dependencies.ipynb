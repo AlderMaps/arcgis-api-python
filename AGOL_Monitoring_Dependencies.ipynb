{
 "cells": [
  {
   "cell_type": "markdown",
   "id": "3b3eaa42",
   "metadata": {},
   "source": [
    "### Log into ArcGIS Online"
   ]
  },
  {
   "cell_type": "code",
   "execution_count": 16,
   "id": "1d321d1e",
   "metadata": {},
   "outputs": [],
   "source": [
    "from arcgis.gis import GIS\n",
    "\n",
    "import warnings\n",
    "from urllib3.exceptions import InsecureRequestWarning\n",
    "warnings.simplefilter(\"ignore\", InsecureRequestWarning)\n",
    "\n",
    "gis = GIS(\"home\")"
   ]
  },
  {
   "cell_type": "code",
   "execution_count": 17,
   "id": "e133e173",
   "metadata": {},
   "outputs": [],
   "source": [
    "cm_id = \"03209b91e33f4c588007319d18cd6e70\"\n",
    "cm_item = gis.content.get(cm_id)\n",
    "\n",
    "inventory_table = cm_item.tables[1]\n",
    "dependencies_table = cm_item.tables[2]"
   ]
  },
  {
   "cell_type": "code",
   "execution_count": 18,
   "id": "cdf5b1bd",
   "metadata": {},
   "outputs": [],
   "source": [
    "# Function to get the status (authoritative, deprecated, none) of items\n",
    "def get_status(status):\n",
    "\n",
    "    if not status:\n",
    "        return \"None\"\n",
    "    else:\n",
    "        return status.lstrip(\"org_\").title()"
   ]
  },
  {
   "cell_type": "code",
   "execution_count": 19,
   "id": "2926537a",
   "metadata": {},
   "outputs": [],
   "source": [
    "# Nope I need to do this now; otherwise it's mixing a string and a null and it'll just get ugly\n",
    "def get_item_url_str(item):\n",
    "    if item.type in [\"Vector Tile Service\", \"Feature Service\", \"Map Service\", \"Image Service\"]:\n",
    "        return f'<a target=\"_blank\" href=\"{item.url}\">View Service</a>'\n",
    "    elif item.type == \"Web Map\":\n",
    "        return f'<a target=\"_blank\" href=\"https://www.maps.arcgis.com/apps/mapviewer/index.html?webmap={item.id}\">View Map</a>'\n",
    "    elif item.type in [\"Hub Site Application\", \"StoryMap\", \"Web Experience\", \"Web Experience Template\", \"Dashboard\", \"Hub Page\"]:\n",
    "        return f'<a target=\"_blank\" href=\"{item.url}\">View App</a>'\n",
    "    else:\n",
    "        return \"Not applicable\""
   ]
  },
  {
   "cell_type": "code",
   "execution_count": 20,
   "id": "02ee23b1",
   "metadata": {},
   "outputs": [],
   "source": [
    "# Okay now for the fun part, figure out whether items have dependencies\n",
    "def get_dependencies_bool(item):\n",
    "\n",
    "    if item.get_dependencies():\n",
    "        return \"Yes\"\n",
    "    else:\n",
    "        return \"No\""
   ]
  },
  {
   "cell_type": "code",
   "execution_count": 21,
   "id": "9b38f270",
   "metadata": {},
   "outputs": [
    {
     "name": "stdout",
     "output_type": "stream",
     "text": [
      "Number of items to add to table: 222\n"
     ]
    }
   ],
   "source": [
    "# Get all users in the org\n",
    "all_items = gis.content.search(query=\"*\", max_items=10000)\n",
    "\n",
    "# initialize empty dict to hold users info for AGOL table\n",
    "items_list = []\n",
    "\n",
    "# Loop through users; populate users dictionary\n",
    "for item in all_items:\n",
    "\n",
    "    # Initialize two dicts I need for each row to be added to users table\n",
    "    update_dict = {}\n",
    "    items_dict = {}\n",
    "\n",
    "    # Add k/v pairs to the inner dict\n",
    "    items_dict[\"item_id\"] = item.id\n",
    "    items_dict[\"item_url\"] = f'<a target=\"_blank\" href=\"https://www.maps.arcgis.com/home/item.html?id={item.id}\">View Item Page</a>'\n",
    "\n",
    "    # Could fine-tune this so it returns link text based on the item type...too lazy right now...\n",
    "    items_dict[\"service_url\"] = get_item_url_str(item)\n",
    "    items_dict[\"item_type\"] = item.type\n",
    "    items_dict[\"title\"] = item.title\n",
    "    items_dict[\"owner\"] = item.owner\n",
    "\n",
    "    # Well the sharing is going to be a little more complex...will have to work with this a bit; \n",
    "    # shared_with returns a dict, \"groups\" and \"level\" as keys\n",
    "    items_dict[\"sharing\"] = str(item.sharing.sharing_level.value).title()\n",
    "\n",
    "    items_dict[\"status\"] = get_status(item.content_status)\n",
    "\n",
    "    items_dict[\"date_created\"] = item.created\n",
    "    items_dict[\"date_modified\"] = item.modified\n",
    "    items_dict[\"has_dependencies\"] = get_dependencies_bool(item)\n",
    "\n",
    "    # Add inner dict to outer dict w/key \"attributes\"\n",
    "    update_dict[\"attributes\"] = items_dict\n",
    "\n",
    "    # Append the user dict to the users list\n",
    "    items_list.append(update_dict)\n",
    "\n",
    "print(f\"Number of items to add to table: {len(items_list)}\")"
   ]
  },
  {
   "cell_type": "markdown",
   "id": "942e8ee5",
   "metadata": {},
   "source": [
    "### Add dependencies to the dependencies table"
   ]
  },
  {
   "cell_type": "code",
   "execution_count": 23,
   "id": "cfadbde7",
   "metadata": {},
   "outputs": [
    {
     "name": "stdout",
     "output_type": "stream",
     "text": [
      "Number of items to add to table: 222\n"
     ]
    }
   ],
   "source": [
    "# List of dependencies (rows) for dependencies table\n",
    "dependencies_list = []\n",
    "\n",
    "# Loop through items\n",
    "for item in all_items:\n",
    "\n",
    "    # Get the dependencies for the item (list of items)\n",
    "    dependencies = item.get_dependencies()\n",
    "\n",
    "    # Ignore what doesn't have dependencies\n",
    "    if not dependencies:\n",
    "        continue\n",
    "\n",
    "    # Initialize two dicts I need for each row to be added to users table\n",
    "    update_dict = {}\n",
    "    dependencies_dict = {}\n",
    "\n",
    "    # This is a one-to-many relationship so loop through dependencies\n",
    "    for dependency in dependencies:\n",
    "\n",
    "        dependencies_dict[\"origin_id\"] = item.id\n",
    "        dependencies_dict[\"dependent_id\"] = dependency.id\n",
    "\n",
    "    # Add inner dict to outer dict w/key \"attributes\"\n",
    "    update_dict[\"attributes\"] = dependencies_dict\n",
    "\n",
    "    # Append the user dict to the users list\n",
    "    dependencies_list.append(update_dict)\n",
    "\n",
    "print(f\"Number of items to add to table: {len(items_list)}\")"
   ]
  },
  {
   "cell_type": "code",
   "execution_count": null,
   "id": "82549bee",
   "metadata": {},
   "outputs": [],
   "source": [
    "# This script will effectively overwrite the output of the last run, \n",
    "# so before writing any new records we simply truncate tables\n",
    "# NOTE: can't use truncate like for users table because of the relationship class!\n",
    "inventory_table.delete_features(where=\"1=1\")\n",
    "\n",
    "# Add users to table\n",
    "items_update = inventory_table.edit_features(adds=items_list)"
   ]
  },
  {
   "cell_type": "code",
   "execution_count": 24,
   "id": "1692db1b",
   "metadata": {},
   "outputs": [],
   "source": [
    "# This script will effectively overwrite the output of the last run, \n",
    "# so before writing any new records we simply truncate tables\n",
    "# NOTE: can't use truncate like for users table because of the relationship class!\n",
    "dependencies_table.delete_features(where=\"1=1\")\n",
    "\n",
    "# Add users to table\n",
    "dependencies_update = dependencies_table.edit_features(adds=dependencies_list)"
   ]
  }
 ],
 "metadata": {
  "kernelspec": {
   "display_name": "arcgispro-py3",
   "language": "python",
   "name": "python3"
  },
  "language_info": {
   "codemirror_mode": {
    "name": "ipython",
    "version": 3
   },
   "file_extension": ".py",
   "mimetype": "text/x-python",
   "name": "python",
   "nbconvert_exporter": "python",
   "pygments_lexer": "ipython3",
   "version": "3.11.11"
  }
 },
 "nbformat": 4,
 "nbformat_minor": 5
}
