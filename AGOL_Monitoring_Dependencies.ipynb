{
 "cells": [
  {
   "cell_type": "markdown",
   "id": "3b3eaa42",
   "metadata": {},
   "source": [
    "### Log into ArcGIS Online"
   ]
  },
  {
   "cell_type": "code",
   "execution_count": 15,
   "id": "1d321d1e",
   "metadata": {},
   "outputs": [],
   "source": [
    "from arcgis.gis import GIS\n",
    "\n",
    "import warnings\n",
    "from urllib3.exceptions import InsecureRequestWarning\n",
    "warnings.simplefilter(\"ignore\", InsecureRequestWarning)\n",
    "\n",
    "gis = GIS(\"home\")"
   ]
  },
  {
   "cell_type": "code",
   "execution_count": 16,
   "id": "e133e173",
   "metadata": {},
   "outputs": [],
   "source": [
    "cm_id = \"03209b91e33f4c588007319d18cd6e70\"\n",
    "cm_item = gis.content.get(cm_id)\n",
    "\n",
    "inventory_table = cm_item.tables[1]\n",
    "dependencies_table = cm_item.tables[2]"
   ]
  },
  {
   "cell_type": "code",
   "execution_count": null,
   "id": "cdf5b1bd",
   "metadata": {},
   "outputs": [],
   "source": [
    "def get_status(status):\n",
    "    if not status:\n",
    "        return \"None\"\n",
    "    else: return status.lstrip(\"org_\").title()\n",
    "\n",
    "def get_item_url(item):\n",
    "    if item.type in [\"Vector Tile Service\", \"Feature Service\", \"Map Service\", \"Image Service\"]:\n",
    "        return f'<a target=\"_blank\" href=\"{item.url}\">View Service</a>'\n",
    "    elif item.type == \"Web Map\":\n",
    "        return f'<a target=\"_blank\" href=\"https://www.maps.arcgis.com/apps/mapviewer/index.html?webmap={item.id}\">View Map</a>'\n",
    "    elif item.type in [\"Hub Site Application\", \"StoryMap\", \"Web Experience\", \"Web Experience Template\", \"Dashboard\", \"Hub Page\"]:\n",
    "        return f'<a target=\"_blank\" href=\"{item.url}\">View App</a>'\n",
    "    else: return \"Not applicable\"\n",
    "\n",
    "def get_item_page_url(item_id):\n",
    "    return f'<a target=\"_blank\" href=\"https://www.maps.arcgis.com/home/item.html?id={item_id}\">View Item Page</a>'"
   ]
  },
  {
   "cell_type": "code",
   "execution_count": null,
   "id": "9b38f270",
   "metadata": {},
   "outputs": [
    {
     "name": "stdout",
     "output_type": "stream",
     "text": [
      "Number of items to add to table: 223\n",
      "Number of items to add to table: 402\n"
     ]
    }
   ],
   "source": [
    "all_items = gis.content.search(query=\"*\", max_items=10000)\n",
    "\n",
    "items_list = []\n",
    "dependencies_list = []\n",
    "\n",
    "for item in all_items:\n",
    "\n",
    "    items_dict = {}\n",
    "    update_items_dict = {}\n",
    "    \n",
    "    items_dict[\"item_id\"] = item.id\n",
    "    items_dict[\"item_url\"] = get_item_page_url(item.id)\n",
    "    items_dict[\"service_url\"] = get_item_url(item)\n",
    "    items_dict[\"item_type\"] = item.type\n",
    "    items_dict[\"title\"] = item.title\n",
    "    items_dict[\"owner\"] = item.owner\n",
    "    items_dict[\"sharing\"] = str(item.sharing.sharing_level.value).title()\n",
    "    items_dict[\"status\"] = get_status(item.content_status)\n",
    "    items_dict[\"date_created\"] = item.created\n",
    "    items_dict[\"date_modified\"] = item.modified\n",
    "\n",
    "    # BEGIN DEPENDENCIES\n",
    "    dependencies = item.get_dependencies(deep=True)\n",
    "\n",
    "    if not dependencies:\n",
    "        items_dict[\"has_dependencies\"] = \"No\"\n",
    "        items_dict[\"dependencies_count\"] = 0\n",
    "\n",
    "    else:\n",
    "        items_dict[\"has_dependencies\"] = \"Yes\"\n",
    "        items_dict[\"dependencies_count\"] = len(dependencies)\n",
    "\n",
    "        for dependency in dependencies:\n",
    "\n",
    "            dependencies_dict = {}\n",
    "            update_dependencies_dict = {}\n",
    "\n",
    "            dependencies_dict[\"origin_id\"] = item.id\n",
    "            dependencies_dict[\"origin_title\"] = item.title\n",
    "            dependencies_dict[\"dependent_id\"] = dependency.id\n",
    "            dependencies_dict[\"dependent_title\"] = dependency.title\n",
    "            dependencies_dict[\"dependent_type\"] = dependency.type\n",
    "            dependencies_dict[\"dependent_item_url\"] = get_item_page_url(dependency.id)\n",
    "            dependencies_dict[\"dependent_url\"] = get_item_url(dependency)\n",
    "\n",
    "            update_dependencies_dict[\"attributes\"] = dependencies_dict\n",
    "            dependencies_list.append(update_dependencies_dict)\n",
    "\n",
    "    update_items_dict[\"attributes\"] = items_dict\n",
    "    items_list.append(update_items_dict)\n",
    "\n",
    "print(f\"Number of items to add to items table: {len(items_list)}\")\n",
    "print(f\"Number of items to add to dependencies table: {len(dependencies_list)}\")"
   ]
  },
  {
   "cell_type": "markdown",
   "id": "942e8ee5",
   "metadata": {},
   "source": [
    "### Add dependencies to the dependencies table"
   ]
  },
  {
   "cell_type": "code",
   "execution_count": null,
   "id": "82549bee",
   "metadata": {},
   "outputs": [],
   "source": [
    "# This script will effectively overwrite the output of the last run, \n",
    "# so before writing any new records we simply truncate tables\n",
    "# NOTE: can't use truncate like for users table because of the relationship class!\n",
    "# NOTE: Do we even need the relationship class? We're just shoving everything in a Dashboard/ExB anyway...?\n",
    "inventory_table.delete_features(where=\"1=1\")\n",
    "items_update = inventory_table.edit_features(adds=items_list)\n",
    "\n",
    "# Add items and dependencies to tables\n",
    "dependencies_table.delete_features(where=\"1=1\")\n",
    "dependencies_update = dependencies_table.edit_features(adds=dependencies_list)"
   ]
  }
 ],
 "metadata": {
  "kernelspec": {
   "display_name": "arcgispro-py3",
   "language": "python",
   "name": "python3"
  },
  "language_info": {
   "codemirror_mode": {
    "name": "ipython",
    "version": 3
   },
   "file_extension": ".py",
   "mimetype": "text/x-python",
   "name": "python",
   "nbconvert_exporter": "python",
   "pygments_lexer": "ipython3",
   "version": "3.11.11"
  }
 },
 "nbformat": 4,
 "nbformat_minor": 5
}
