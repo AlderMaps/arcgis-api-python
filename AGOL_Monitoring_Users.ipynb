{
 "cells": [
  {
   "cell_type": "markdown",
   "id": "3b3eaa42",
   "metadata": {},
   "source": [
    "### Log into ArcGIS Online"
   ]
  },
  {
   "cell_type": "code",
   "execution_count": 1,
   "id": "1d321d1e",
   "metadata": {},
   "outputs": [],
   "source": [
    "from arcgis.gis import GIS\n",
    "from datetime import datetime\n",
    "\n",
    "import warnings\n",
    "from urllib3.exceptions import InsecureRequestWarning\n",
    "warnings.simplefilter(\"ignore\", InsecureRequestWarning)\n",
    "\n",
    "gis = GIS(\"home\")"
   ]
  },
  {
   "cell_type": "code",
   "execution_count": 2,
   "id": "e133e173",
   "metadata": {},
   "outputs": [],
   "source": [
    "cm_id = \"03209b91e33f4c588007319d18cd6e70\"\n",
    "cm_item = gis.content.get(cm_id)\n",
    "\n",
    "users_table = cm_item.tables[0]\n",
    "inventory_table = cm_item.tables[1]\n",
    "dependencies_table = cm_item.tables[2]"
   ]
  },
  {
   "cell_type": "markdown",
   "id": "85d037c7",
   "metadata": {},
   "source": [
    "### WTF is the user.lastLogin property not just a datetime object???\n",
    "Oh well we'll deal with the int..."
   ]
  },
  {
   "cell_type": "code",
   "execution_count": 3,
   "id": "564b5a43",
   "metadata": {},
   "outputs": [],
   "source": [
    "# Get days since last login from datetime object\n",
    "def get_time_delta(last_login):\n",
    "\n",
    "    # user property is a Unix timestamp in miliseconds; convert to datetime object\n",
    "    login_datetime = datetime.fromtimestamp(last_login / 1000)\n",
    "\n",
    "    # Get time delta in days since last login\n",
    "    delta_days = (datetime.now() - login_datetime).days\n",
    "\n",
    "    return delta_days"
   ]
  },
  {
   "cell_type": "code",
   "execution_count": 4,
   "id": "e52deafe",
   "metadata": {},
   "outputs": [],
   "source": [
    "# Get total storage of user's content\n",
    "def get_total_storage(user):\n",
    "\n",
    "    total_bytes = 0\n",
    "\n",
    "    for folder in user.folders:\n",
    "        for item in user.items(folder=folder):\n",
    "            total_bytes += item.size\n",
    "\n",
    "    total_mb = round(total_bytes / (1024*1024))\n",
    "\n",
    "    return total_mb\n",
    "\n",
    "# Temporary call in this block while testing so I don't\n",
    "# keep having to calc my storage for every test run\n",
    "my_storage = get_total_storage(gis.users.me)"
   ]
  },
  {
   "cell_type": "markdown",
   "id": "645f1ad7",
   "metadata": {},
   "source": [
    "### Assemble users to be added to User table"
   ]
  },
  {
   "cell_type": "code",
   "execution_count": 5,
   "id": "21d89eeb",
   "metadata": {},
   "outputs": [
    {
     "name": "stdout",
     "output_type": "stream",
     "text": [
      "Number of users to add to table: 1\n"
     ]
    }
   ],
   "source": [
    "# Get all users in the org\n",
    "all_users = gis.users.search(query=\"*\", max_users=10000)\n",
    "\n",
    "# initialize empty dict to hold users info for AGOL table\n",
    "users_list = []\n",
    "\n",
    "# Loop through users; populate users dictionary\n",
    "for user in all_users:\n",
    "\n",
    "    # Initialize two dicts I need for each row to be added to users table\n",
    "    update_dict = {}\n",
    "    user_dict = {}\n",
    "\n",
    "    # Add k/v pairs to the inner dict\n",
    "    user_dict[\"username\"] = user.username\n",
    "    user_dict[\"user_email\"] = user.email\n",
    "    user_dict[\"last_login\"] = user.lastLogin\n",
    "    user_dict[\"days_since_last_login\"] = get_time_delta(user.lastLogin)\n",
    "\n",
    "    # REFORMAT THIS BEFORE PUBLICATION...this is just so I don't have to get my storage while testing\n",
    "    user_dict[\"total_storage\"] = my_storage # get_total_storage(user)\n",
    "    user_dict[\"user_role\"] = user.role.lstrip(\"org_\").title()\n",
    "\n",
    "    # Add inner dict to outer dict w/key \"attributes\"\n",
    "    update_dict[\"attributes\"] = user_dict\n",
    "\n",
    "    # Append the user dict to the users list\n",
    "    users_list.append(update_dict)\n",
    "\n",
    "print(f\"Number of users to add to table: {len(users_list)}\")"
   ]
  },
  {
   "cell_type": "markdown",
   "id": "fb354c63",
   "metadata": {},
   "source": [
    "### THIS IS A BIG BLOCK OF FAKE USER DATA...\n",
    "...because I'm building this prototype in an org from a Personal Use License that has, by definition, ONE user. 😭\n",
    "<br>If you're adapting this script for your own purposes, and you actually have users, you can _simply DELETE the entire cell_ below. POOF. \n",
    "<br>Script will continue to work as expected, just without a bunch of fake data."
   ]
  },
  {
   "cell_type": "code",
   "execution_count": 6,
   "id": "80d1fac1",
   "metadata": {},
   "outputs": [],
   "source": [
    "# Fake users data for use in creating Dashboard\n",
    "# Because a (Personal Use License) org with a single user makes for a lame bar chart\n",
    "\n",
    "# Fake Unix timestamps (miliseconds)\n",
    "ts = [\n",
    "    1740205197408,\n",
    "    1721304097308,\n",
    "    1757318197908,\n",
    "    1748305167908,\n",
    "    1756218197908,\n",
    "    1755218197908,\n",
    "]\n",
    "\n",
    "fake_users = [\n",
    "    {\n",
    "        \"attributes\": {\n",
    "            \"username\": \"Matt\",\n",
    "            \"user_email\": \"matt@aldermaps.com\",\n",
    "            \"last_login\": ts[0],\n",
    "            \"days_since_last_login\": get_time_delta(ts[0]),\n",
    "            \"total_storage\": 643,\n",
    "            \"user_role\": \"Publisher\"\n",
    "        }\n",
    "    },\n",
    "    {\n",
    "        \"attributes\": {\n",
    "            \"username\": \"Eric\",\n",
    "            \"user_email\": \"eric@aldermaps.com\",\n",
    "            \"last_login\": ts[1],\n",
    "            \"days_since_last_login\": get_time_delta(ts[1]),\n",
    "            \"total_storage\": 29,\n",
    "            \"user_role\": \"User\"\n",
    "        }\n",
    "    },\n",
    "    {\n",
    "        \"attributes\": {\n",
    "            \"username\": \"Alanda\",\n",
    "            \"user_email\": \"alanda@aldermaps.com\",\n",
    "            \"last_login\": ts[2],\n",
    "            \"days_since_last_login\": get_time_delta(ts[2]),\n",
    "            \"total_storage\": 92,\n",
    "            \"user_role\": \"User\"\n",
    "        }\n",
    "    },\n",
    "    {\n",
    "        \"attributes\": {\n",
    "            \"username\": \"Christine\",\n",
    "            \"user_email\": \"christine@aldermaps.com\",\n",
    "            \"last_login\": ts[3],\n",
    "            \"days_since_last_login\": get_time_delta(ts[3]),\n",
    "            \"total_storage\": 8,\n",
    "            \"user_role\": \"User\"\n",
    "        }\n",
    "    },\n",
    "    {\n",
    "        \"attributes\": {\n",
    "            \"username\": \"Khaled\",\n",
    "            \"user_email\": \"khaled@aldermaps.com\",\n",
    "            \"last_login\": ts[4],\n",
    "            \"days_since_last_login\": get_time_delta(ts[4]),\n",
    "            \"total_storage\": 133,\n",
    "            \"user_role\": \"Publisher\"\n",
    "        }\n",
    "    },\n",
    "    {\n",
    "        \"attributes\": {\n",
    "            \"username\": \"Xiaoyi\",\n",
    "            \"user_email\": \"xiaoyi@aldermaps.com\",\n",
    "            \"last_login\": ts[5],\n",
    "            \"days_since_last_login\": get_time_delta(ts[5]),\n",
    "            \"total_storage\": 3,\n",
    "            \"user_role\": \"Publisher\"\n",
    "        }\n",
    "    },\n",
    "]\n",
    "\n",
    "# Tack my list of fake user dicts onto my own dict\n",
    "# To disable addition of fake users, simply comment out the line below\n",
    "# Or delete this entire cell\n",
    "users_list = users_list + fake_users"
   ]
  },
  {
   "cell_type": "markdown",
   "id": "57e68c01",
   "metadata": {},
   "source": [
    "### Write users to user table"
   ]
  },
  {
   "cell_type": "code",
   "execution_count": 7,
   "id": "c4be18a3",
   "metadata": {},
   "outputs": [],
   "source": [
    "# This script will effectively overwrite the output of the last run, \n",
    "# so before writing any new records we simply truncate tables\n",
    "users_table.manager.truncate()\n",
    "\n",
    "# Add users to table\n",
    "users_update = users_table.edit_features(adds=users_list)"
   ]
  }
 ],
 "metadata": {
  "kernelspec": {
   "display_name": "arcgispro-py3",
   "language": "python",
   "name": "python3"
  },
  "language_info": {
   "codemirror_mode": {
    "name": "ipython",
    "version": 3
   },
   "file_extension": ".py",
   "mimetype": "text/x-python",
   "name": "python",
   "nbconvert_exporter": "python",
   "pygments_lexer": "ipython3",
   "version": "3.11.11"
  }
 },
 "nbformat": 4,
 "nbformat_minor": 5
}
