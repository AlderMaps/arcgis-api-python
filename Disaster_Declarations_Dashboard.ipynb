{
 "cells": [
  {
   "cell_type": "code",
   "execution_count": 1,
   "id": "7dc57611",
   "metadata": {},
   "outputs": [],
   "source": [
    "import requests\n",
    "\n",
    "from arcgis.gis import GIS\n",
    "from arcgis.features import manage_data\n",
    "\n",
    "import numpy as np\n",
    "import pandas as pd\n",
    "\n",
    "import warnings\n",
    "from urllib3.exceptions import InsecureRequestWarning\n",
    "warnings.simplefilter(\"ignore\", InsecureRequestWarning)"
   ]
  },
  {
   "cell_type": "code",
   "execution_count": 2,
   "id": "4041c933",
   "metadata": {},
   "outputs": [],
   "source": [
    "gis = GIS(\"home\")"
   ]
  },
  {
   "cell_type": "code",
   "execution_count": 4,
   "id": "3ee2370f",
   "metadata": {},
   "outputs": [],
   "source": [
    "dd_id = \"d37c3c2a6f1c4586baad82828bfc3c59\"\n",
    "\n",
    "dd_item = gis.content.get(dd_id)\n",
    "\n",
    "geometries_layer = dd_item.layers[1]\n",
    "\n",
    "# Item ID 0 is the output layer displayed in the dashboard\n",
    "# COMMENTING OUT WHILE TESTING\n",
    "#dashboard_layer = dd_item.layers[0]\n",
    "\n",
    "test_id = \"edb716da51bc4f7882d13d425ad08fd2\"\n",
    "\n",
    "test_item = gis.content.get(test_id)\n",
    "\n",
    "dashboard_layer = test_item.layers[0]"
   ]
  },
  {
   "cell_type": "code",
   "execution_count": 5,
   "id": "b9d0bef7",
   "metadata": {},
   "outputs": [
    {
     "data": {
      "text/plain": [
       "(1000, 28)"
      ]
     },
     "execution_count": 5,
     "metadata": {},
     "output_type": "execute_result"
    }
   ],
   "source": [
    "api_url = r\"https://www.fema.gov/api/open/v2/DisasterDeclarationsSummaries?$filter=fyDeclared ge 2013&$orderby=declarationDate desc\"\n",
    "\n",
    "response = requests.get(api_url)\n",
    "\n",
    "data = response.json()\n",
    "\n",
    "summaries_df = pd.DataFrame(data[\"DisasterDeclarationsSummaries\"])\n",
    "\n",
    "summaries_df.shape"
   ]
  },
  {
   "cell_type": "code",
   "execution_count": 6,
   "id": "7c9999ec",
   "metadata": {},
   "outputs": [],
   "source": [
    "date_columns = [\"declarationDate\", \"incidentBeginDate\", \"incidentEndDate\", \"disasterCloseoutDate\", \"lastIAFilingDate\", \"lastRefresh\"]\n",
    "\n",
    "for dc in date_columns:\n",
    "    summaries_df[dc] = pd.to_datetime(summaries_df[dc], errors=\"coerce\")"
   ]
  },
  {
   "cell_type": "code",
   "execution_count": 7,
   "id": "e31bd54e",
   "metadata": {},
   "outputs": [],
   "source": [
    "summaries_df[\"fipsFullCode\"] = summaries_df[\"fipsStateCode\"] + summaries_df[\"fipsCountyCode\"]\n",
    "summaries_df[\"fipsTribalCode\"] = summaries_df[\"fipsStateCode\"] + summaries_df[\"placeCode\"]\n",
    "\n",
    "summaries_df[\"COVID19\"] = np.where(summaries_df[\"declarationTitle\"].str.contains(\"COVID-19\"), \"Show only COVID-19\", \"Show only non-COVID-19\")"
   ]
  },
  {
   "cell_type": "code",
   "execution_count": 8,
   "id": "8262e79c",
   "metadata": {},
   "outputs": [],
   "source": [
    "entity_conditions = [\n",
    "    summaries_df[\"designatedArea\"] == \"Statewide\",\n",
    "    (summaries_df[\"designatedArea\"] != \"Statewide\") & (summaries_df[\"fipsCountyCode\"] == \"000\"),\n",
    "    (summaries_df[\"designatedArea\"] != \"Statewide\") & (summaries_df[\"fipsCountyCode\"] != \"000\")\n",
    "]\n",
    "\n",
    "entity_values = [\"State or Equivalent\", \"Tribal Area or Equivalent\", \"County or Equivalent\"]\n",
    "\n",
    "summaries_df[\"Entity\"] = np.select(entity_conditions, entity_values)"
   ]
  },
  {
   "cell_type": "code",
   "execution_count": 9,
   "id": "6929c822",
   "metadata": {},
   "outputs": [
    {
     "data": {
      "text/plain": [
       "(101, 24)"
      ]
     },
     "execution_count": 9,
     "metadata": {},
     "output_type": "execute_result"
    }
   ],
   "source": [
    "dashboard_sdf = dashboard_layer.query().sdf\n",
    "\n",
    "dashboard_sdf.shape"
   ]
  },
  {
   "cell_type": "markdown",
   "id": "aaad6e30",
   "metadata": {},
   "source": [
    "Okay sooooooo finally think I figured out the NEXT link in the Chain Of Things That Blew Up.\n",
    "It's not picking up the tribal I need to add. But the line below DOES assume that the femaDecString is unique when it's NOT. If the Dec string is already in the dashboard for a county, it's not going to pick up that it needs to add it for tribal, DUH. I guess I will need a multi-field key to check for adds. DUH."
   ]
  },
  {
   "cell_type": "code",
   "execution_count": 25,
   "id": "00f171ed",
   "metadata": {},
   "outputs": [
    {
     "data": {
      "text/plain": [
       "(2, 32)"
      ]
     },
     "execution_count": 25,
     "metadata": {},
     "output_type": "execute_result"
    }
   ],
   "source": [
    "multi_key = [\"femaDeclarationString\", \"Entity\"]\n",
    "\n",
    "pre_adds = summaries_df.merge(dashboard_sdf[multi_key], on=multi_key, how=\"left\", indicator=True)\n",
    "\n",
    "adds_df = pre_adds[pre_adds[\"_merge\"] == \"left_only\"].drop(columns=[\"_merge\"])\n",
    "\n",
    "adds_df.shape"
   ]
  },
  {
   "cell_type": "code",
   "execution_count": 26,
   "id": "304d81bf",
   "metadata": {},
   "outputs": [],
   "source": [
    "state_field = \"State_FIPS\"\n",
    "county_field = \"Full_FIPS\"\n",
    "tribal_field1 = \"AIANNHFP1\"\n",
    "tribal_field2 = \"AIANNHFP2\"\n",
    "tribal_field3 = \"AIANNHFP3\"\n",
    "\n",
    "key_fields_dict = {\n",
    "    \"State_FIPS\": \"fipsStateCode\",\n",
    "    \"Full_FIPS\": \"fipsFullCode\",\n",
    "    \"AIANNHFP1\": \"fipsTribalCode\",\n",
    "    \"AIANNHFP2\": \"fipsTribalCode\", # No idea why there are three of these...or why the Summaries sometimes use 2 and 3...\n",
    "    \"AIANNHFP3\": \"fipsTribalCode\" # What a pain in the @$$...\n",
    "}"
   ]
  },
  {
   "cell_type": "markdown",
   "id": "90a493b8",
   "metadata": {},
   "source": [
    "### Get geometries associated with each Dec string for all three entity types\n",
    "Since this has to be done technically 5 times (there are three different keys for Tribal), a function it is\n",
    "(Yeah we'll throw everything in a function later, probably, since it's just tidy, but this requires it)"
   ]
  },
  {
   "cell_type": "code",
   "execution_count": 27,
   "id": "3d433335",
   "metadata": {},
   "outputs": [],
   "source": [
    "geometries_sdf = geometries_layer.query().sdf"
   ]
  },
  {
   "cell_type": "code",
   "execution_count": 28,
   "id": "6a902d8a",
   "metadata": {},
   "outputs": [
    {
     "data": {
      "text/plain": [
       "Index(['femaDeclarationString', 'disasterNumber', 'state', 'declarationType',\n",
       "       'declarationDate', 'fyDeclared', 'incidentType', 'declarationTitle',\n",
       "       'ihProgramDeclared', 'iaProgramDeclared', 'paProgramDeclared',\n",
       "       'hmProgramDeclared', 'incidentBeginDate', 'incidentEndDate',\n",
       "       'disasterCloseoutDate', 'tribalRequest', 'fipsStateCode',\n",
       "       'fipsCountyCode', 'placeCode', 'designatedArea',\n",
       "       'declarationRequestNumber', 'lastIAFilingDate', 'incidentId', 'region',\n",
       "       'designatedIncidentTypes', 'lastRefresh', 'hash', 'id', 'fipsFullCode',\n",
       "       'fipsTribalCode', 'COVID19', 'Entity'],\n",
       "      dtype='object')"
      ]
     },
     "execution_count": 28,
     "metadata": {},
     "output_type": "execute_result"
    }
   ],
   "source": [
    "adds_df.columns"
   ]
  },
  {
   "cell_type": "code",
   "execution_count": 29,
   "id": "b1c85969",
   "metadata": {},
   "outputs": [
    {
     "name": "stdout",
     "output_type": "stream",
     "text": [
      "(0, 51)\n",
      "(0, 51)\n",
      "(2, 51)\n",
      "(0, 51)\n",
      "(0, 51)\n"
     ]
    }
   ],
   "source": [
    "state = \"State or Equivalent\"\n",
    "county = \"County or Equivalent\"\n",
    "tribal = \"Tribal Area or Equivalent\" \n",
    "\n",
    "def get_geometries(entity, field):\n",
    "\n",
    "    # Checking Dec-string-per-entity\n",
    "    entity_adds_df = adds_df[adds_df[\"Entity\"] == entity]\n",
    "\n",
    "    # NEED to specify an empty string for at least one of the suffixes here;\n",
    "    # Otherwise I have no \"Entity\" field and my Dashboard layer and adds feature collection won't have matching fields\n",
    "    merged = entity_adds_df.merge(geometries_sdf, left_on=[key_fields_dict[field]], right_on=field, suffixes=('', '_2'))\n",
    "\n",
    "    print(merged.shape)\n",
    "\n",
    "    return merged\n",
    "\n",
    "state_geometries = get_geometries(state, state_field)\n",
    "\n",
    "county_geometries = get_geometries(county, county_field)\n",
    "\n",
    "tribal1_geometries = get_geometries(tribal, tribal_field1)\n",
    "\n",
    "tribal2_geometries = get_geometries(tribal, tribal_field2)\n",
    "\n",
    "tribal3_geometries = get_geometries(tribal, tribal_field3)"
   ]
  },
  {
   "cell_type": "markdown",
   "id": "c6cd3136",
   "metadata": {},
   "source": [
    "### Stack the entity dataframes\n",
    "Once I've generated rows for all Entity / Dec string combinations, I can just stack them for simple processing below."
   ]
  },
  {
   "cell_type": "code",
   "execution_count": 30,
   "id": "9cab49e5",
   "metadata": {},
   "outputs": [],
   "source": [
    "adds_geometries = pd.concat([state_geometries, county_geometries, tribal1_geometries, tribal2_geometries, tribal3_geometries])"
   ]
  },
  {
   "cell_type": "markdown",
   "id": "c1805221",
   "metadata": {},
   "source": [
    "### Testing 9/7\n",
    "* Current problem: I deleted the Tribal entities in the testing data (4 rows); the script isn't picking up anything new to add.\n",
    "* Must be that I am not calculating my tribal keys correctly; looking into this now."
   ]
  },
  {
   "cell_type": "code",
   "execution_count": 31,
   "id": "ddbfba12",
   "metadata": {},
   "outputs": [
    {
     "name": "stdout",
     "output_type": "stream",
     "text": [
      "['Entity', 'femaDeclarationString', 'disasterNumber', 'state', 'declarationType', 'declarationDate', 'fyDeclared', 'incidentType', 'declarationTitle', 'incidentBeginDate', 'incidentEndDate', 'disasterCloseoutDate', 'tribalRequest', 'fipsStateCode', 'declarationRequestNumber', 'lastIAFilingDate', 'incidentId', 'region', 'designatedIncidentTypes', 'COVID19']\n"
     ]
    },
    {
     "name": "stderr",
     "output_type": "stream",
     "text": [
      "{\"cost\": 0.002}\n"
     ]
    }
   ],
   "source": [
    "if adds_geometries.empty:\n",
    "    \n",
    "    print(\"Found no new Declarations to add! We're done here.\")\n",
    "\n",
    "else:\n",
    "\n",
    "    adds_feature_collection = adds_geometries.spatial.to_feature_collection()\n",
    "\n",
    "    remove_fields = [\"OBJECTID\", \"Shape__Area\", \"Shape__Length\", \"SHAPE\"]\n",
    "\n",
    "    dissolve_fields = [f[\"name\"] for f in dashboard_layer.properties.fields if not f[\"name\"] in remove_fields]\n",
    "\n",
    "    print(dissolve_fields)\n",
    "\n",
    "    adds_dissolved = manage_data.dissolve_boundaries(adds_feature_collection, dissolve_fields=dissolve_fields)\n",
    "\n",
    "    adds_features = adds_dissolved.query().features\n",
    "\n",
    "    message = dashboard_layer.edit_features(adds_features)\n",
    "\n",
    "    message"
   ]
  }
 ],
 "metadata": {
  "kernelspec": {
   "display_name": "arcgispro-py3",
   "language": "python",
   "name": "python3"
  },
  "language_info": {
   "codemirror_mode": {
    "name": "ipython",
    "version": 3
   },
   "file_extension": ".py",
   "mimetype": "text/x-python",
   "name": "python",
   "nbconvert_exporter": "python",
   "pygments_lexer": "ipython3",
   "version": "3.11.11"
  }
 },
 "nbformat": 4,
 "nbformat_minor": 5
}
