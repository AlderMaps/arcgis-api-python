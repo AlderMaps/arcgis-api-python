{
 "cells": [
  {
   "cell_type": "markdown",
   "id": "e64d7fa5",
   "metadata": {},
   "source": [
    "### Imports"
   ]
  },
  {
   "cell_type": "code",
   "execution_count": 1,
   "id": "7dc57611",
   "metadata": {},
   "outputs": [],
   "source": [
    "import requests\n",
    "import pandas as pd"
   ]
  },
  {
   "cell_type": "markdown",
   "id": "018c5b53",
   "metadata": {},
   "source": [
    "### Variables"
   ]
  },
  {
   "cell_type": "code",
   "execution_count": null,
   "id": "a6663797",
   "metadata": {},
   "outputs": [],
   "source": [
    "# Within the API URL, filter the records to return only fyDeclared to 2013 or newer.\n",
    "# US Census GDBs only go back to 2013; before that it's shapefiles only\n",
    "# and I refuse to touch shapefiles, at least for the scope of this project.\n",
    "api_url = r\"https://www.fema.gov/api/open/v2/DisasterDeclarationsSummaries?$filter=fyDeclared ge 2013\"\n",
    "\n",
    "# These layers serve as the geometry templates for the addition of new Disaster Declarations.\n",
    "# Every time the script picks up a new Disaster Declaration, it will grab the geometry of the associated\n",
    "# County or Tribal Area to add to the Disaster Declaration feature class that powers the dashboard.\n",
    "counties_url = r\"https://services9.arcgis.com/GDVaV4SDJDDBT8gi/arcgis/rest/services/Multi_Year_US_Counties_Semi_General/FeatureServer/0\"\n",
    "\n",
    "tribal_url = r\"https://services9.arcgis.com/GDVaV4SDJDDBT8gi/arcgis/rest/services/US_Tribal_Areas_Semi_Generalized/FeatureServer/0\"\n",
    "\n",
    "# This is the feature layer actually presented in the Disaster Declarations Dashboard\n",
    "# All fields except geometry are taken from FEMA's Disaster Declaration Summaries;\n",
    "# The geometries come from the two URLs above (Counties and Tribal Areas)\n",
    "dashboard_url = r\"https://services9.arcgis.com/GDVaV4SDJDDBT8gi/arcgis/rest/services/Disaster_Declarations/FeatureServer/0\"\n"
   ]
  },
  {
   "cell_type": "code",
   "execution_count": null,
   "id": "8b6c6e87",
   "metadata": {},
   "outputs": [],
   "source": [
    "\n",
    "response = requests.get(api_url)\n",
    "\n",
    "data = response.json()"
   ]
  },
  {
   "cell_type": "code",
   "execution_count": 9,
   "id": "a8b809e2",
   "metadata": {},
   "outputs": [
    {
     "name": "stdout",
     "output_type": "stream",
     "text": [
      "[2024 2017 2016 2023 2022 2021 2020 2019 2018 2025 2015 2014 2013]\n"
     ]
    }
   ],
   "source": [
    "\n",
    "summaries = pd.DataFrame(data[\"DisasterDeclarationsSummaries\"])\n",
    "\n",
    "print(summaries[\"fyDeclared\"].unique())"
   ]
  }
 ],
 "metadata": {
  "kernelspec": {
   "display_name": "arcgispro-py3",
   "language": "python",
   "name": "python3"
  },
  "language_info": {
   "codemirror_mode": {
    "name": "ipython",
    "version": 3
   },
   "file_extension": ".py",
   "mimetype": "text/x-python",
   "name": "python",
   "nbconvert_exporter": "python",
   "pygments_lexer": "ipython3",
   "version": "3.11.11"
  }
 },
 "nbformat": 4,
 "nbformat_minor": 5
}
