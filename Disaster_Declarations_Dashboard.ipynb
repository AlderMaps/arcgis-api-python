{
 "cells": [
  {
   "cell_type": "markdown",
   "id": "e64d7fa5",
   "metadata": {},
   "source": [
    "### Imports"
   ]
  },
  {
   "cell_type": "code",
   "execution_count": 1,
   "id": "7dc57611",
   "metadata": {},
   "outputs": [],
   "source": [
    "import requests\n",
    "\n",
    "from arcgis.gis import GIS\n",
    "from arcgis.features import FeatureLayer\n",
    "\n",
    "import numpy as np\n",
    "import pandas as pd"
   ]
  },
  {
   "cell_type": "markdown",
   "id": "54a73233",
   "metadata": {},
   "source": [
    "### Connecting to ArcGIS"
   ]
  },
  {
   "cell_type": "code",
   "execution_count": 2,
   "id": "4041c933",
   "metadata": {},
   "outputs": [],
   "source": [
    "# Login for the notebook running in AGOL\n",
    "#gis = GIS(\"home\")\n",
    "\n",
    "# Login for the notebook running in Pro locally...\n",
    "gis = GIS(\"pro\")"
   ]
  },
  {
   "cell_type": "markdown",
   "id": "018c5b53",
   "metadata": {},
   "source": [
    "### Variables\n",
    "Currently the production layer (which is already powering the very very pretty Dashboard) is commented out and I'm grabbing a test layer instead (next block down). Will un-comment the operational layer when I'm 100% sure things aren't blowing up anymore."
   ]
  },
  {
   "cell_type": "code",
   "execution_count": 3,
   "id": "3ee2370f",
   "metadata": {},
   "outputs": [
    {
     "name": "stdout",
     "output_type": "stream",
     "text": [
      "<FeatureLayer url:\"https://services9.arcgis.com/GDVaV4SDJDDBT8gi/arcgis/rest/services/Disaster_Declarations_Summaries_v2/FeatureServer/1\">\n"
     ]
    }
   ],
   "source": [
    "\n",
    "# The Item ID of the service containing both the geometry layers and the dashboard layer\n",
    "# dd is \"Disaster Declarations\"\n",
    "dd_id = \"d37c3c2a6f1c4586baad82828bfc3c59\"\n",
    "\n",
    "# Get the item at this item ID\n",
    "dd_item = gis.content.get(dd_id)\n",
    "\n",
    "# Item ID 1 is the input layer used for getting geometries\n",
    "geometries_layer = dd_item.layers[1]\n",
    "\n",
    "print(geometries_layer)\n",
    "\n",
    "# Item ID 0 is the output layer displayed in the dashboard\n",
    "# COMMENTING OUT WHILE TESTING\n",
    "#dashboard_layer = dd_item.layers[0]\n",
    "\n",
    "#print(dashboard_layer)"
   ]
  },
  {
   "cell_type": "markdown",
   "id": "4f835e84",
   "metadata": {},
   "source": [
    "### Get the Dashboard layer FOR TESTING ONLY"
   ]
  },
  {
   "cell_type": "code",
   "execution_count": 4,
   "id": "707c59ff",
   "metadata": {},
   "outputs": [
    {
     "name": "stdout",
     "output_type": "stream",
     "text": [
      "<FeatureLayer url:\"https://services9.arcgis.com/GDVaV4SDJDDBT8gi/arcgis/rest/services/DisasterDeclarations_forTesting_2025only/FeatureServer/0\">\n"
     ]
    }
   ],
   "source": [
    "# ID of the item including Disaster Declarations Summaries subset FOR TESTING ONLY,\n",
    "# replaces \"dashboard_layer\" above through duration of testing\n",
    "test_id = \"edb716da51bc4f7882d13d425ad08fd2\"\n",
    "\n",
    "test_item = gis.content.get(test_id)\n",
    "\n",
    "dashboard_layer = test_item.layers[0]\n",
    "\n",
    "print(dashboard_layer)"
   ]
  },
  {
   "cell_type": "markdown",
   "id": "e5d93b45",
   "metadata": {},
   "source": [
    "### Connect to OpenFEMA API and get Disaster Declarations Summaries\n",
    "* Right right right; I forgot that the API by default only returns 1000 records. I shouldn't really NEED more records than that, since the script is going to be run once per day. One thousand records should be MORE than enough. But, I now realize I need to do a little footwork to make sure I am just getting the 1000 _most recent_ records...\n",
    "\n",
    "* Okay added a sort order to the api call to only get the most recent records by declarationDate! That should do it..."
   ]
  },
  {
   "cell_type": "code",
   "execution_count": 5,
   "id": "b9d0bef7",
   "metadata": {},
   "outputs": [
    {
     "data": {
      "text/html": [
       "<div>\n",
       "<style scoped>\n",
       "    .dataframe tbody tr th:only-of-type {\n",
       "        vertical-align: middle;\n",
       "    }\n",
       "\n",
       "    .dataframe tbody tr th {\n",
       "        vertical-align: top;\n",
       "    }\n",
       "\n",
       "    .dataframe thead th {\n",
       "        text-align: right;\n",
       "    }\n",
       "</style>\n",
       "<table border=\"1\" class=\"dataframe\">\n",
       "  <thead>\n",
       "    <tr style=\"text-align: right;\">\n",
       "      <th></th>\n",
       "      <th>femaDeclarationString</th>\n",
       "      <th>disasterNumber</th>\n",
       "      <th>state</th>\n",
       "      <th>declarationType</th>\n",
       "      <th>declarationDate</th>\n",
       "      <th>fyDeclared</th>\n",
       "      <th>incidentType</th>\n",
       "      <th>declarationTitle</th>\n",
       "      <th>ihProgramDeclared</th>\n",
       "      <th>iaProgramDeclared</th>\n",
       "      <th>...</th>\n",
       "      <th>placeCode</th>\n",
       "      <th>designatedArea</th>\n",
       "      <th>declarationRequestNumber</th>\n",
       "      <th>lastIAFilingDate</th>\n",
       "      <th>incidentId</th>\n",
       "      <th>region</th>\n",
       "      <th>designatedIncidentTypes</th>\n",
       "      <th>lastRefresh</th>\n",
       "      <th>hash</th>\n",
       "      <th>id</th>\n",
       "    </tr>\n",
       "  </thead>\n",
       "  <tbody>\n",
       "    <tr>\n",
       "      <th>0</th>\n",
       "      <td>FM-5612-CA</td>\n",
       "      <td>5612</td>\n",
       "      <td>CA</td>\n",
       "      <td>FM</td>\n",
       "      <td>2025-09-03T00:00:00.000Z</td>\n",
       "      <td>2025</td>\n",
       "      <td>Fire</td>\n",
       "      <td>2-7 FIRE</td>\n",
       "      <td>False</td>\n",
       "      <td>False</td>\n",
       "      <td>...</td>\n",
       "      <td>99009</td>\n",
       "      <td>Calaveras (County)</td>\n",
       "      <td>25121</td>\n",
       "      <td>None</td>\n",
       "      <td>2025090301</td>\n",
       "      <td>9</td>\n",
       "      <td>R</td>\n",
       "      <td>2025-09-03T18:41:07.857Z</td>\n",
       "      <td>d017531813b75fc753371c26b246931d48de651e</td>\n",
       "      <td>28a1ba9f-d914-4024-9e75-4a66b5bba092</td>\n",
       "    </tr>\n",
       "    <tr>\n",
       "      <th>1</th>\n",
       "      <td>FM-5611-MT</td>\n",
       "      <td>5611</td>\n",
       "      <td>MT</td>\n",
       "      <td>FM</td>\n",
       "      <td>2025-08-26T00:00:00.000Z</td>\n",
       "      <td>2025</td>\n",
       "      <td>Fire</td>\n",
       "      <td>WINDY ROCK FIRE</td>\n",
       "      <td>False</td>\n",
       "      <td>False</td>\n",
       "      <td>...</td>\n",
       "      <td>99077</td>\n",
       "      <td>Powell (County)</td>\n",
       "      <td>25119</td>\n",
       "      <td>None</td>\n",
       "      <td>2025082701</td>\n",
       "      <td>8</td>\n",
       "      <td>R</td>\n",
       "      <td>2025-08-28T18:01:23.160Z</td>\n",
       "      <td>29e175a73b969da6864182e703e3cb3f8d0bb32d</td>\n",
       "      <td>41329e57-2046-4196-a63d-902f3e7c923c</td>\n",
       "    </tr>\n",
       "    <tr>\n",
       "      <th>2</th>\n",
       "      <td>FM-5610-OR</td>\n",
       "      <td>5610</td>\n",
       "      <td>OR</td>\n",
       "      <td>FM</td>\n",
       "      <td>2025-08-23T00:00:00.000Z</td>\n",
       "      <td>2025</td>\n",
       "      <td>Fire</td>\n",
       "      <td>FLAT FIRE</td>\n",
       "      <td>False</td>\n",
       "      <td>False</td>\n",
       "      <td>...</td>\n",
       "      <td>99017</td>\n",
       "      <td>Deschutes (County)</td>\n",
       "      <td>25117</td>\n",
       "      <td>None</td>\n",
       "      <td>2025082301</td>\n",
       "      <td>10</td>\n",
       "      <td>R</td>\n",
       "      <td>2025-08-25T18:21:58.453Z</td>\n",
       "      <td>c4a190d030807595da90813aabc6ad2175917668</td>\n",
       "      <td>df7cb24f-8e5a-4c1e-923e-4c75c9ec4581</td>\n",
       "    </tr>\n",
       "    <tr>\n",
       "      <th>3</th>\n",
       "      <td>FM-5610-OR</td>\n",
       "      <td>5610</td>\n",
       "      <td>OR</td>\n",
       "      <td>FM</td>\n",
       "      <td>2025-08-23T00:00:00.000Z</td>\n",
       "      <td>2025</td>\n",
       "      <td>Fire</td>\n",
       "      <td>FLAT FIRE</td>\n",
       "      <td>False</td>\n",
       "      <td>False</td>\n",
       "      <td>...</td>\n",
       "      <td>99031</td>\n",
       "      <td>Jefferson (County)</td>\n",
       "      <td>25117</td>\n",
       "      <td>None</td>\n",
       "      <td>2025082301</td>\n",
       "      <td>10</td>\n",
       "      <td>R</td>\n",
       "      <td>2025-08-25T18:21:58.453Z</td>\n",
       "      <td>8b07b29243bdbba511790332bd3fa9cca0fe33fd</td>\n",
       "      <td>f0604c05-113b-449e-8e4a-f3b5076af546</td>\n",
       "    </tr>\n",
       "    <tr>\n",
       "      <th>4</th>\n",
       "      <td>FM-5609-HI</td>\n",
       "      <td>5609</td>\n",
       "      <td>HI</td>\n",
       "      <td>FM</td>\n",
       "      <td>2025-08-19T00:00:00.000Z</td>\n",
       "      <td>2025</td>\n",
       "      <td>Fire</td>\n",
       "      <td>KUNIA ROAD FIRE</td>\n",
       "      <td>False</td>\n",
       "      <td>False</td>\n",
       "      <td>...</td>\n",
       "      <td>99003</td>\n",
       "      <td>Honolulu (County)</td>\n",
       "      <td>25114</td>\n",
       "      <td>None</td>\n",
       "      <td>2025082001</td>\n",
       "      <td>9</td>\n",
       "      <td>R</td>\n",
       "      <td>2025-08-21T18:22:16.374Z</td>\n",
       "      <td>731df26a647e5a0338177f445bab7a23b6f8d6ed</td>\n",
       "      <td>ffab7fa0-2e69-428d-b4d3-da95ca352c03</td>\n",
       "    </tr>\n",
       "  </tbody>\n",
       "</table>\n",
       "<p>5 rows × 28 columns</p>\n",
       "</div>"
      ],
      "text/plain": [
       "  femaDeclarationString  disasterNumber state declarationType  \\\n",
       "0            FM-5612-CA            5612    CA              FM   \n",
       "1            FM-5611-MT            5611    MT              FM   \n",
       "2            FM-5610-OR            5610    OR              FM   \n",
       "3            FM-5610-OR            5610    OR              FM   \n",
       "4            FM-5609-HI            5609    HI              FM   \n",
       "\n",
       "            declarationDate  fyDeclared incidentType declarationTitle  \\\n",
       "0  2025-09-03T00:00:00.000Z        2025         Fire         2-7 FIRE   \n",
       "1  2025-08-26T00:00:00.000Z        2025         Fire  WINDY ROCK FIRE   \n",
       "2  2025-08-23T00:00:00.000Z        2025         Fire       FLAT FIRE    \n",
       "3  2025-08-23T00:00:00.000Z        2025         Fire       FLAT FIRE    \n",
       "4  2025-08-19T00:00:00.000Z        2025         Fire  KUNIA ROAD FIRE   \n",
       "\n",
       "   ihProgramDeclared  iaProgramDeclared  ...  placeCode      designatedArea  \\\n",
       "0              False              False  ...      99009  Calaveras (County)   \n",
       "1              False              False  ...      99077     Powell (County)   \n",
       "2              False              False  ...      99017  Deschutes (County)   \n",
       "3              False              False  ...      99031  Jefferson (County)   \n",
       "4              False              False  ...      99003   Honolulu (County)   \n",
       "\n",
       "  declarationRequestNumber lastIAFilingDate  incidentId  region  \\\n",
       "0                    25121             None  2025090301       9   \n",
       "1                    25119             None  2025082701       8   \n",
       "2                    25117             None  2025082301      10   \n",
       "3                    25117             None  2025082301      10   \n",
       "4                    25114             None  2025082001       9   \n",
       "\n",
       "  designatedIncidentTypes               lastRefresh  \\\n",
       "0                       R  2025-09-03T18:41:07.857Z   \n",
       "1                       R  2025-08-28T18:01:23.160Z   \n",
       "2                       R  2025-08-25T18:21:58.453Z   \n",
       "3                       R  2025-08-25T18:21:58.453Z   \n",
       "4                       R  2025-08-21T18:22:16.374Z   \n",
       "\n",
       "                                       hash  \\\n",
       "0  d017531813b75fc753371c26b246931d48de651e   \n",
       "1  29e175a73b969da6864182e703e3cb3f8d0bb32d   \n",
       "2  c4a190d030807595da90813aabc6ad2175917668   \n",
       "3  8b07b29243bdbba511790332bd3fa9cca0fe33fd   \n",
       "4  731df26a647e5a0338177f445bab7a23b6f8d6ed   \n",
       "\n",
       "                                     id  \n",
       "0  28a1ba9f-d914-4024-9e75-4a66b5bba092  \n",
       "1  41329e57-2046-4196-a63d-902f3e7c923c  \n",
       "2  df7cb24f-8e5a-4c1e-923e-4c75c9ec4581  \n",
       "3  f0604c05-113b-449e-8e4a-f3b5076af546  \n",
       "4  ffab7fa0-2e69-428d-b4d3-da95ca352c03  \n",
       "\n",
       "[5 rows x 28 columns]"
      ]
     },
     "execution_count": 5,
     "metadata": {},
     "output_type": "execute_result"
    }
   ],
   "source": [
    "# Within the API URL, filter the records to return only fyDeclared to 2013 or newer.\n",
    "# US Census GDBs only go back to 2013; before that it's shapefiles only\n",
    "# and I refuse to touch shapefiles, at least for the scope of this project.\n",
    "\n",
    "api_url = r\"https://www.fema.gov/api/open/v2/DisasterDeclarationsSummaries?$filter=fyDeclared ge 2013&$orderby=declarationDate desc\"\n",
    "\n",
    "# Plug in the URL and capture the response obj\n",
    "response = requests.get(api_url)\n",
    "\n",
    "# Convert response to JSON\n",
    "data = response.json()\n",
    "\n",
    "# Okay so after a little digging I really only need the following (leave out the metadata)\n",
    "summaries_df = pd.DataFrame(data[\"DisasterDeclarationsSummaries\"])\n",
    "\n",
    "summaries_df.head()"
   ]
  },
  {
   "cell_type": "markdown",
   "id": "f0d5b798",
   "metadata": {},
   "source": [
    "### Convert pseudo-date columns to actual date columns\n",
    "I checked all the fips / code fields to ensure they're object / string type (I deleted that block while tidying up), so the offending fields remaining are the pseudo-date fields"
   ]
  },
  {
   "cell_type": "code",
   "execution_count": 6,
   "id": "7c9999ec",
   "metadata": {},
   "outputs": [],
   "source": [
    "date_columns = [\"declarationDate\", \"incidentBeginDate\", \"incidentEndDate\", \"disasterCloseoutDate\", \"lastIAFilingDate\", \"lastRefresh\"]\n",
    "\n",
    "for dc in date_columns:\n",
    "    summaries_df[dc] = pd.to_datetime(summaries_df[dc], errors=\"coerce\")"
   ]
  },
  {
   "cell_type": "markdown",
   "id": "ee860810",
   "metadata": {},
   "source": [
    "### Add full FIPS Code (counties) and full Tribal Code columns"
   ]
  },
  {
   "cell_type": "code",
   "execution_count": 7,
   "id": "e31bd54e",
   "metadata": {},
   "outputs": [
    {
     "name": "stdout",
     "output_type": "stream",
     "text": [
      "0    06009\n",
      "1    30077\n",
      "2    41017\n",
      "3    41031\n",
      "4    15003\n",
      "Name: fipsFullCode, dtype: object\n",
      "0    0699009\n",
      "1    3099077\n",
      "2    4199017\n",
      "3    4199031\n",
      "4    1599003\n",
      "Name: fipsTribalCode, dtype: object\n"
     ]
    }
   ],
   "source": [
    "# Add to my df the fields I will need for comparison\n",
    "summaries_df[\"fipsFullCode\"] = summaries_df[\"fipsStateCode\"] + summaries_df[\"fipsCountyCode\"]\n",
    "summaries_df[\"fipsTribalCode\"] = summaries_df[\"fipsStateCode\"] + summaries_df[\"placeCode\"]\n",
    "\n",
    "print(summaries_df[\"fipsFullCode\"].head())\n",
    "print(summaries_df[\"fipsTribalCode\"].head())"
   ]
  },
  {
   "cell_type": "markdown",
   "id": "5ff5ff54",
   "metadata": {},
   "source": [
    "* Considering how I'm going to get the data from the API in shape for the comparison etc. I should just add the two additional columns I added manually for the dashboard I made first, COVID and Entity. After I add and calculate them, the comparisons will all be much easier, because I can just reference those fields for processing the data in chunks (i.e. step 1 process statewide, step 2 process counties, step 3 process tribal)"
   ]
  },
  {
   "cell_type": "markdown",
   "id": "44961960",
   "metadata": {},
   "source": [
    "### Add & calc \"COVID19\" field"
   ]
  },
  {
   "cell_type": "code",
   "execution_count": 8,
   "id": "6f76cf65",
   "metadata": {},
   "outputs": [],
   "source": [
    "# Good lord I can't remember how to calculate any of these fields with pandas... 🤣😭\n",
    "# Anyway the first one I need to calc is the COVID column, simple yes/no\n",
    "\n",
    "summaries_df[\"COVID19\"] = np.where(summaries_df[\"declarationTitle\"].str.contains(\"COVID-19\"), \"Show only COVID-19\", \"Show only non-COVID-19\")\n"
   ]
  },
  {
   "cell_type": "markdown",
   "id": "560ea0ff",
   "metadata": {},
   "source": [
    "### Add & calc \"Entities\" field"
   ]
  },
  {
   "cell_type": "code",
   "execution_count": 9,
   "id": "8262e79c",
   "metadata": {},
   "outputs": [],
   "source": [
    "# For my next trick I'll use np.select instead of np.where since to code new Entity column\n",
    "# I have three possible values not just 2 / yes no / on off\n",
    "\n",
    "entity_conditions = [\n",
    "    summaries_df[\"designatedArea\"] == \"Statewide\",\n",
    "    (summaries_df[\"designatedArea\"] != \"Statewide\") & (summaries_df[\"fipsCountyCode\"] == \"000\"),\n",
    "    (summaries_df[\"designatedArea\"] != \"Statewide\") & (summaries_df[\"fipsCountyCode\"] != \"000\")\n",
    "]\n",
    "\n",
    "entity_values = [\"State or Equivalent\", \"Tribal Area or Equivalent\", \"County or Equivalent\"]\n",
    "\n",
    "summaries_df[\"Entity\"] = np.select(entity_conditions, entity_values)"
   ]
  },
  {
   "cell_type": "markdown",
   "id": "f871d84d",
   "metadata": {},
   "source": [
    "### Groupby \"femaDeclarationString\", get temporal range (prelim analysis; to delete)"
   ]
  },
  {
   "cell_type": "code",
   "execution_count": 10,
   "id": "ba40e248",
   "metadata": {},
   "outputs": [
    {
     "data": {
      "text/plain": [
       "0.0"
      ]
     },
     "execution_count": 10,
     "metadata": {},
     "output_type": "execute_result"
    }
   ],
   "source": [
    "analyze = summaries_df.groupby(\"femaDeclarationString\")[\"declarationDate\"].agg([\"min\", \"max\"])\n",
    "\n",
    "analyze[\"range\"] = (analyze[\"max\"] - analyze[\"min\"]).dt.total_seconds() / 3600\n",
    "\n",
    "analyze[\"range\"].max()"
   ]
  },
  {
   "cell_type": "markdown",
   "id": "b838fb85",
   "metadata": {},
   "source": [
    "Well that's encouraging (no really I'm not even being sarcastic). I get a whole column of big fat zeros for the declaredDate ranges of all the fema Dec Strings. Honestly...that means I should be fine just proceeding with my simple it's-there-or-not check. I should probably also commit.\n",
    "\n",
    "OK getting near end-of-day. But now I know I can go forward with a comparison so maybe I'll start that part..."
   ]
  },
  {
   "cell_type": "markdown",
   "id": "0399d2d6",
   "metadata": {},
   "source": [
    "### Let's just re-do the bottom four blocks with a one-liner now that ChatGPT is helping jog my memory from DSTP XD\n",
    "Can you believe I forgot about isin?? And MERGE??"
   ]
  },
  {
   "cell_type": "code",
   "execution_count": 11,
   "id": "6929c822",
   "metadata": {},
   "outputs": [],
   "source": [
    "dashboard_sdf = dashboard_layer.query().sdf"
   ]
  },
  {
   "cell_type": "code",
   "execution_count": 12,
   "id": "42e5b92d",
   "metadata": {},
   "outputs": [
    {
     "data": {
      "text/html": [
       "<div>\n",
       "<style scoped>\n",
       "    .dataframe tbody tr th:only-of-type {\n",
       "        vertical-align: middle;\n",
       "    }\n",
       "\n",
       "    .dataframe tbody tr th {\n",
       "        vertical-align: top;\n",
       "    }\n",
       "\n",
       "    .dataframe thead th {\n",
       "        text-align: right;\n",
       "    }\n",
       "</style>\n",
       "<table border=\"1\" class=\"dataframe\">\n",
       "  <thead>\n",
       "    <tr style=\"text-align: right;\">\n",
       "      <th></th>\n",
       "      <th>femaDeclarationString</th>\n",
       "      <th>disasterNumber</th>\n",
       "      <th>state</th>\n",
       "      <th>declarationType</th>\n",
       "      <th>declarationDate</th>\n",
       "      <th>fyDeclared</th>\n",
       "      <th>incidentType</th>\n",
       "      <th>declarationTitle</th>\n",
       "      <th>ihProgramDeclared</th>\n",
       "      <th>iaProgramDeclared</th>\n",
       "      <th>...</th>\n",
       "      <th>incidentId</th>\n",
       "      <th>region</th>\n",
       "      <th>designatedIncidentTypes</th>\n",
       "      <th>lastRefresh</th>\n",
       "      <th>hash</th>\n",
       "      <th>id</th>\n",
       "      <th>fipsFullCode</th>\n",
       "      <th>fipsTribalCode</th>\n",
       "      <th>COVID19</th>\n",
       "      <th>Entity</th>\n",
       "    </tr>\n",
       "  </thead>\n",
       "  <tbody>\n",
       "    <tr>\n",
       "      <th>0</th>\n",
       "      <td>FM-5612-CA</td>\n",
       "      <td>5612</td>\n",
       "      <td>CA</td>\n",
       "      <td>FM</td>\n",
       "      <td>2025-09-03 00:00:00+00:00</td>\n",
       "      <td>2025</td>\n",
       "      <td>Fire</td>\n",
       "      <td>2-7 FIRE</td>\n",
       "      <td>False</td>\n",
       "      <td>False</td>\n",
       "      <td>...</td>\n",
       "      <td>2025090301</td>\n",
       "      <td>9</td>\n",
       "      <td>R</td>\n",
       "      <td>2025-09-03 18:41:07.857000+00:00</td>\n",
       "      <td>d017531813b75fc753371c26b246931d48de651e</td>\n",
       "      <td>28a1ba9f-d914-4024-9e75-4a66b5bba092</td>\n",
       "      <td>06009</td>\n",
       "      <td>0699009</td>\n",
       "      <td>Show only non-COVID-19</td>\n",
       "      <td>County or Equivalent</td>\n",
       "    </tr>\n",
       "    <tr>\n",
       "      <th>1</th>\n",
       "      <td>FM-5611-MT</td>\n",
       "      <td>5611</td>\n",
       "      <td>MT</td>\n",
       "      <td>FM</td>\n",
       "      <td>2025-08-26 00:00:00+00:00</td>\n",
       "      <td>2025</td>\n",
       "      <td>Fire</td>\n",
       "      <td>WINDY ROCK FIRE</td>\n",
       "      <td>False</td>\n",
       "      <td>False</td>\n",
       "      <td>...</td>\n",
       "      <td>2025082701</td>\n",
       "      <td>8</td>\n",
       "      <td>R</td>\n",
       "      <td>2025-08-28 18:01:23.160000+00:00</td>\n",
       "      <td>29e175a73b969da6864182e703e3cb3f8d0bb32d</td>\n",
       "      <td>41329e57-2046-4196-a63d-902f3e7c923c</td>\n",
       "      <td>30077</td>\n",
       "      <td>3099077</td>\n",
       "      <td>Show only non-COVID-19</td>\n",
       "      <td>County or Equivalent</td>\n",
       "    </tr>\n",
       "    <tr>\n",
       "      <th>2</th>\n",
       "      <td>FM-5610-OR</td>\n",
       "      <td>5610</td>\n",
       "      <td>OR</td>\n",
       "      <td>FM</td>\n",
       "      <td>2025-08-23 00:00:00+00:00</td>\n",
       "      <td>2025</td>\n",
       "      <td>Fire</td>\n",
       "      <td>FLAT FIRE</td>\n",
       "      <td>False</td>\n",
       "      <td>False</td>\n",
       "      <td>...</td>\n",
       "      <td>2025082301</td>\n",
       "      <td>10</td>\n",
       "      <td>R</td>\n",
       "      <td>2025-08-25 18:21:58.453000+00:00</td>\n",
       "      <td>c4a190d030807595da90813aabc6ad2175917668</td>\n",
       "      <td>df7cb24f-8e5a-4c1e-923e-4c75c9ec4581</td>\n",
       "      <td>41017</td>\n",
       "      <td>4199017</td>\n",
       "      <td>Show only non-COVID-19</td>\n",
       "      <td>County or Equivalent</td>\n",
       "    </tr>\n",
       "    <tr>\n",
       "      <th>3</th>\n",
       "      <td>FM-5610-OR</td>\n",
       "      <td>5610</td>\n",
       "      <td>OR</td>\n",
       "      <td>FM</td>\n",
       "      <td>2025-08-23 00:00:00+00:00</td>\n",
       "      <td>2025</td>\n",
       "      <td>Fire</td>\n",
       "      <td>FLAT FIRE</td>\n",
       "      <td>False</td>\n",
       "      <td>False</td>\n",
       "      <td>...</td>\n",
       "      <td>2025082301</td>\n",
       "      <td>10</td>\n",
       "      <td>R</td>\n",
       "      <td>2025-08-25 18:21:58.453000+00:00</td>\n",
       "      <td>8b07b29243bdbba511790332bd3fa9cca0fe33fd</td>\n",
       "      <td>f0604c05-113b-449e-8e4a-f3b5076af546</td>\n",
       "      <td>41031</td>\n",
       "      <td>4199031</td>\n",
       "      <td>Show only non-COVID-19</td>\n",
       "      <td>County or Equivalent</td>\n",
       "    </tr>\n",
       "  </tbody>\n",
       "</table>\n",
       "<p>4 rows × 32 columns</p>\n",
       "</div>"
      ],
      "text/plain": [
       "  femaDeclarationString  disasterNumber state declarationType  \\\n",
       "0            FM-5612-CA            5612    CA              FM   \n",
       "1            FM-5611-MT            5611    MT              FM   \n",
       "2            FM-5610-OR            5610    OR              FM   \n",
       "3            FM-5610-OR            5610    OR              FM   \n",
       "\n",
       "            declarationDate  fyDeclared incidentType declarationTitle  \\\n",
       "0 2025-09-03 00:00:00+00:00        2025         Fire         2-7 FIRE   \n",
       "1 2025-08-26 00:00:00+00:00        2025         Fire  WINDY ROCK FIRE   \n",
       "2 2025-08-23 00:00:00+00:00        2025         Fire       FLAT FIRE    \n",
       "3 2025-08-23 00:00:00+00:00        2025         Fire       FLAT FIRE    \n",
       "\n",
       "   ihProgramDeclared  iaProgramDeclared  ...  incidentId  region  \\\n",
       "0              False              False  ...  2025090301       9   \n",
       "1              False              False  ...  2025082701       8   \n",
       "2              False              False  ...  2025082301      10   \n",
       "3              False              False  ...  2025082301      10   \n",
       "\n",
       "  designatedIncidentTypes                      lastRefresh  \\\n",
       "0                       R 2025-09-03 18:41:07.857000+00:00   \n",
       "1                       R 2025-08-28 18:01:23.160000+00:00   \n",
       "2                       R 2025-08-25 18:21:58.453000+00:00   \n",
       "3                       R 2025-08-25 18:21:58.453000+00:00   \n",
       "\n",
       "                                       hash  \\\n",
       "0  d017531813b75fc753371c26b246931d48de651e   \n",
       "1  29e175a73b969da6864182e703e3cb3f8d0bb32d   \n",
       "2  c4a190d030807595da90813aabc6ad2175917668   \n",
       "3  8b07b29243bdbba511790332bd3fa9cca0fe33fd   \n",
       "\n",
       "                                     id fipsFullCode fipsTribalCode  \\\n",
       "0  28a1ba9f-d914-4024-9e75-4a66b5bba092        06009        0699009   \n",
       "1  41329e57-2046-4196-a63d-902f3e7c923c        30077        3099077   \n",
       "2  df7cb24f-8e5a-4c1e-923e-4c75c9ec4581        41017        4199017   \n",
       "3  f0604c05-113b-449e-8e4a-f3b5076af546        41031        4199031   \n",
       "\n",
       "                  COVID19                Entity  \n",
       "0  Show only non-COVID-19  County or Equivalent  \n",
       "1  Show only non-COVID-19  County or Equivalent  \n",
       "2  Show only non-COVID-19  County or Equivalent  \n",
       "3  Show only non-COVID-19  County or Equivalent  \n",
       "\n",
       "[4 rows x 32 columns]"
      ]
     },
     "execution_count": 12,
     "metadata": {},
     "output_type": "execute_result"
    }
   ],
   "source": [
    "adds_df = summaries_df[~summaries_df[\"femaDeclarationString\"].isin(dashboard_sdf[\"femaDeclarationString\"])]\n",
    "\n",
    "adds_df"
   ]
  },
  {
   "cell_type": "markdown",
   "id": "b15c2247",
   "metadata": {},
   "source": [
    "### Good Morning 9/5\n",
    "I don't think it's tricky that tribal and county original Summary observations with the same Dec string are treated separately. We'll (I'm pretty sure?) be processing all three entity types separately anyway, so there won't be a need to make e.g. a multi-column key or any shenanigans like that.\n",
    "\n",
    "What do we want to accomplish this fine Friday?\n",
    "* I need to remove the fields I don't need from the adds_df and then drop dups, effectively dissolving that dataframe.\n",
    "* I guess somewhere along the way I ought to convert it to a spatial data frame; will probably make adding the rows to the dashboard layer easier.\n",
    "* BEFORE I do any of the above, I need to use the appropriate field (depending on entity) and grab the correct geometries to dissolve for that Dec string.\n",
    "* Actually I guess I don't need to do it before; I can do it after; I already have the dfs I need to work with. But procedurally it should happen before.\n",
    "* What data structure for that? I mean...dict with Dec string as key and list of geom objects as values? What's not to love about that? Gives me warm fuzzies just thinking about it.\n",
    "\n",
    "If we got even a fraction of the above done today I'd be happy."
   ]
  },
  {
   "cell_type": "markdown",
   "id": "c7f5e2b4",
   "metadata": {},
   "source": [
    "### Build dict of primary/foreign keys\n",
    "Okay now that I have a little more of the script fleshed out, tidying this up and re-doing a few comments here. Main thing I have to remember for further down the script is that THE KEYS ARE THE FIELDS IN THE GEOMETRIES."
   ]
  },
  {
   "cell_type": "code",
   "execution_count": 13,
   "id": "304d81bf",
   "metadata": {},
   "outputs": [],
   "source": [
    "# I believe I will need three different queries for my geometries layer\n",
    "# I'll need to query to get state geometries, county geometries and tribal area geometries:\n",
    "\n",
    "# Get the states on this field:\n",
    "# (States we'll check first; )\n",
    "state_field = \"State_FIPS\"\n",
    "\n",
    "# Get the counties on this field:\n",
    "county_field = \"Full_FIPS\"\n",
    "\n",
    "# Crappily, in assembling the original dashboard layer I realized that\n",
    "# the Declaration data may match ANY ONE of these tribal fields, so I need to check all three:\n",
    "tribal_field1 = \"AIANNHFP1\"\n",
    "tribal_field2 = \"AIANNHFP2\"\n",
    "tribal_field3 = \"AIANNHFP3\"\n",
    "\n",
    "# Just updated the values below to reflect the fields I've added to the Summaries df; they should be GTG now\n",
    "key_fields_dict = {\n",
    "    \"State_FIPS\": \"fipsStateCode\",\n",
    "    \"Full_FIPS\": \"fipsFullCode\",\n",
    "    \"AIANNHFP1\": \"fipsTribalCode\",\n",
    "    \"AIANNHFP2\": \"fipsTribalCode\", # No idea why there are three of these...or why the Summaries sometimes use 2 and 3...\n",
    "    \"AIANNHFP3\": \"fipsTribalCode\" # What a pain in the @$$...\n",
    "}"
   ]
  },
  {
   "cell_type": "markdown",
   "id": "90a493b8",
   "metadata": {},
   "source": [
    "### Get geometries associated with each Dec string for all three entity types\n",
    "Since this has to be done technically 5 times (there are three different keys for Tribal), a function it is\n",
    "(Yeah we'll throw everything in a function later, probably, since it's just tidy, but this requires it)"
   ]
  },
  {
   "cell_type": "code",
   "execution_count": 14,
   "id": "3d433335",
   "metadata": {},
   "outputs": [
    {
     "name": "stderr",
     "output_type": "stream",
     "text": [
      "c:\\Program Files\\ArcGIS\\Pro\\bin\\Python\\envs\\arcgispro-py3\\Lib\\site-packages\\urllib3\\connectionpool.py:1097: InsecureRequestWarning: Unverified HTTPS request is being made to host 'services9.arcgis.com'. Adding certificate verification is strongly advised. See: https://urllib3.readthedocs.io/en/latest/advanced-usage.html#tls-warnings\n",
      "  warnings.warn(\n",
      "c:\\Program Files\\ArcGIS\\Pro\\bin\\Python\\envs\\arcgispro-py3\\Lib\\site-packages\\urllib3\\connectionpool.py:1097: InsecureRequestWarning: Unverified HTTPS request is being made to host 'services9.arcgis.com'. Adding certificate verification is strongly advised. See: https://urllib3.readthedocs.io/en/latest/advanced-usage.html#tls-warnings\n",
      "  warnings.warn(\n",
      "c:\\Program Files\\ArcGIS\\Pro\\bin\\Python\\envs\\arcgispro-py3\\Lib\\site-packages\\urllib3\\connectionpool.py:1097: InsecureRequestWarning: Unverified HTTPS request is being made to host 'services9.arcgis.com'. Adding certificate verification is strongly advised. See: https://urllib3.readthedocs.io/en/latest/advanced-usage.html#tls-warnings\n",
      "  warnings.warn(\n",
      "c:\\Program Files\\ArcGIS\\Pro\\bin\\Python\\envs\\arcgispro-py3\\Lib\\site-packages\\urllib3\\connectionpool.py:1097: InsecureRequestWarning: Unverified HTTPS request is being made to host 'services9.arcgis.com'. Adding certificate verification is strongly advised. See: https://urllib3.readthedocs.io/en/latest/advanced-usage.html#tls-warnings\n",
      "  warnings.warn(\n"
     ]
    }
   ],
   "source": [
    "# Create a spatial dataframe from the geometries layer\n",
    "# I really only need the \n",
    "geometries_sdf = geometries_layer.query().sdf"
   ]
  },
  {
   "cell_type": "code",
   "execution_count": 15,
   "id": "b1c85969",
   "metadata": {},
   "outputs": [
    {
     "name": "stdout",
     "output_type": "stream",
     "text": [
      "State or Equivalent: {}\n",
      "County or Equivalent: {'FM-5610-OR': [{'rings': [[[-13481100.5781, 5486843.1441], [-13481082.433, 5486842.2134], [-13479949.2004, 5486785.1318], [-13478190.6861, 5486697.1835], [-13475293.7072, 5486552.3109], [-13472816.7367, 5486428.5352], [-13472707.087, 5486423.1064], [-13471892.4509, 5486386.0361], [-13471214.2924, 5486355.1701], [-13470488.7118, 5486322.1328], [-13468242.9521, 5486207.3561], [-13468221.2435, 5476945.8677], [-13468213.0051, 5470965.9548], [-13468214.6748, 5470548.8106], [-13468213.7842, 5469778.9862], [-13468205.1005, 5464151.1038], [-13468195.7495, 5462861.8246], [-13468166.8059, 5459386.7933], [-13455024.4247, 5458970.3312], [-13454589.4993, 5458963.8362], [-13453349.1774, 5458948.0628], [-13444989.5275, 5458841.9795], [-13443981.6407, 5458829.299], [-13443619.8523, 5458829.1444], [-13443579.1093, 5458829.2991], [-13442755.011, 5458833.4745], [-13442043.902, 5458837.0313], [-13441681.0004, 5458838.7324], [-13441635.3594, 5458805.9486], [-13441593.5027, 5454436.5363], [-13441587.7137, 5451425.9085], [-13441591.9434, 5448503.2307], [-13441590.4959, 5445552.7593], [-13439916.6957, 5445532.9941], [-13439284.067, 5445525.5821], [-13438277.182, 5445523.1116], [-13437887.1185, 5445522.9572], [-13436197.6223, 5445524.1928], [-13434817.7056, 5445526.5092], [-13428257.0904, 5445558.3201], [-13418842.3542, 5445684.0184], [-13416043.5591, 5445721.3885], [-13412744.2715, 5445746.8684], [-13400535.193, 5445713.6696], [-13400501.5745, 5445711.9709], [-13400464.9497, 5440462.553], [-13400471.9624, 5436737.5659], [-13400468.1774, 5436171.4121], [-13400458.6038, 5434989.389], [-13400449.3642, 5433965.7496], [-13400435.5604, 5432643.068], [-13400431.1075, 5432297.5088], [-13400242.9776, 5432294.2707], [-13399129.1146, 5432277.6178], [-13398204.3834, 5432267.5952], [-13393775.2028, 5432270.8339], [-13393068.8805, 5432272.0675], [-13392662.5643, 5432273.6095], [-13391554.1559, 5432315.3967], [-13387103.8246, 5432277.1567], [-13387093.2491, 5431181.355], [-13387089.5755, 5430785.7451], [-13387082.4509, 5429859.227], [-13387037.0313, 5420281.465], [-13387036.5859, 5419421.4428], [-13387036.0293, 5418943.4991], [-13386799.03, 5418920.5573], [-13384827.1162, 5418730.0957], [-13372784.0151, 5418765.8182], [-13359676.2542, 5418814.1665], [-13357150.6372, 5418823.4051], [-13354623.573, 5418831.7199], [-13346922.8233, 5418856.9721], [-13346827.866, 5405465.6406], [-13347381.9032, 5405466.8705], [-13348490.0889, 5405469.3303], [-13349044.2374, 5405470.5602], [-13352922.9431, 5405479.0159], [-13355693.4631, 5405485.0117], [-13367894.9718, 5405488.2389], [-13380593.8562, 5405509.6083], [-13395210.1078, 5405545.5837], [-13400391.5857, 5406200.8871], [-13406524.6228, 5406206.4216], [-13411017.7008, 5406206.4211], [-13419368.3338, 5406175.6679], [-13421263.1031, 5406165.5195], [-13425923.6057, 5406140.4561], [-13439549.5589, 5406124.3095], [-13458335.2826, 5406131.8413], [-13466874.2682, 5406326.9629], [-13469785.496, 5406415.6839], [-13483635.9806, 5406389.5422], [-13498523.0724, 5406327.5738], [-13502931.325, 5406314.5034], [-13506725.8731, 5406308.3524], [-13511843.5648, 5406274.8316], [-13518909.4593, 5406281.1349], [-13527618.9863, 5406296.51], [-13541789.5145, 5406292.664], [-13548108.789, 5406270.3677], [-13552472.1798, 5406244.9965], [-13553794.5442, 5406229.9278], [-13554210.7679, 5406225.1611], [-13554673.6344, 5406219.7794], [-13556928.0771, 5406191.4872], [-13566653.6172, 5406144.8967], [-13581242.3727, 5406131.9789], [-13580276.1196, 5407807.8003], [-13578545.4354, 5409466.5446], [-13579100.2525, 5414537.9801], [-13578320.7938, 5417640.8028], [-13578212.2577, 5420952.4205], [-13578124.2047, 5426612.4986], [-13577205.5967, 5431052.9013], [-13577199.9199, 5434923.8135], [-13577873.6258, 5436486.3942], [-13578232.2972, 5436659.6363], [-13578271.4824, 5441577.0317], [-13578246.2131, 5443228.2741], [-13578145.3576, 5443514.9601], [-13577986.7274, 5443938.2899], [-13577970.8087, 5443973.491], [-13577966.1333, 5443981.6738], [-13577844.795, 5444123.4063], [-13577756.9639, 5444216.9694], [-13577478.2199, 5444506.3111], [-13577410.0924, 5444550.1609], [-13577242.2226, 5444653.919], [-13577231.3133, 5444659.7863], [-13577190.793, 5444678.1602], [-13577131.2371, 5444692.9829], [-13577082.9244, 5444692.3653], [-13577028.0439, 5444684.954], [-13575596.2526, 5446251.6632], [-13573608.5318, 5448934.3417], [-13574226.0212, 5450114.6032], [-13574234.4815, 5450141.3308], [-13574093.2171, 5450357.1627], [-13573962.3054, 5450497.2939], [-13573837.5162, 5450604.9817], [-13573059.5043, 5451234.6016], [-13572051.7288, 5451738.9468], [-13571989.7239, 5451761.3525], [-13571548.0081, 5451896.8694], [-13570370.0251, 5452187.9981], [-13569818.8822, 5452226.9396], [-13569326.4046, 5451697.69], [-13568684.091, 5451309.5415], [-13567775.6125, 5451192.8839], [-13567606.1842, 5451174.4969], [-13567401.245, 5451183.6132], [-13567276.3445, 5451192.2659], [-13567214.0056, 5451228.2674], [-13566611.4331, 5451782.3682], [-13566349.1644, 5452132.2137], [-13566125.6349, 5452705.5317], [-13566012.8683, 5453038.567], [-13566001.959, 5453104.5574], [-13565568.7039, 5455916.773], [-13564282.5188, 5460303.284], [-13562400.663, 5463465.0416], [-13562174.7957, 5463891.4571], [-13561675.3053, 5465352.3432], [-13561483.3906, 5465986.6887], [-13561193.5147, 5467148.2472], [-13561342.5716, 5467982.2455], [-13561775.2708, 5469614.8601], [-13559743.579, 5473606.5926], [-13558206.2568, 5475329.4417], [-13556293.8994, 5478414.8659], [-13555908.4, 5479255.3137], [-13555598.1527, 5480205.734], [-13555454.5506, 5480986.5102], [-13555229.7968, 5482736.9491], [-13555674.1848, 5487035.6324], [-13556185.3644, 5490271.4823], [-13555949.1451, 5495052.3376], [-13556642.4435, 5499018.8258], [-13556927.9783, 5500520.2758], [-13557518.9739, 5503111.5014], [-13558283.9618, 5504792.3531], [-13558651.6502, 5505499.8454], [-13560883.4951, 5506161.5368], [-13562968.2874, 5509891.8123], [-13563087.1768, 5511188.9737], [-13563042.8719, 5513134.3613], [-13563155.7502, 5515388.7108], [-13563308.9262, 5518201.5941], [-13563638.21, 5523109.9922], [-13563517.6514, 5526405.8475], [-13559930.0463, 5526410.3658], [-13556079.9498, 5526526.1168], [-13555520.7919, 5526528.2979], [-13553879.4971, 5526534.6855], [-13544877.8676, 5526524.4046], [-13544618.9385, 5526522.691], [-13544119.4478, 5526519.2637], [-13543786.3799, 5526516.9269], [-13543104.7705, 5526495.4282], [-13542995.5661, 5526490.7545], [-13542708.5844, 5526477.8242], [-13531896.7884, 5526465.83], [-13530779.2519, 5526478.2932], [-13529006.2661, 5526492.1586], [-13526988.4886, 5526507.2703], [-13526841.4356, 5526508.0493], [-13522910.1871, 5526527.3676], [-13521219.5778, 5526524.4079], [-13513910.2275, 5526480.1649], [-13502043.0113, 5526446.8279], [-13487357.519, 5526093.0432], [-13481630.5755, 5526089.6167], [-13481653.3956, 5523195.3442], [-13481682.0039, 5516900.0234], [-13481735.4352, 5501648.1666], [-13481536.173, 5499320.3178], [-13481105.3656, 5492825.5138], [-13481100.5781, 5486843.1441]]], 'spatialReference': {'wkid': 102100, 'latestWkid': 3857}}, {'rings': [[[-13513910.2275, 5526480.1649], [-13521219.5778, 5526524.4079], [-13522910.1871, 5526527.3676], [-13526841.4356, 5526508.0493], [-13526988.4886, 5526507.2703], [-13529006.2661, 5526492.1586], [-13530779.2519, 5526478.2932], [-13531896.7884, 5526465.83], [-13542708.5844, 5526477.8242], [-13542995.5661, 5526490.7545], [-13543104.7705, 5526495.4282], [-13543786.3799, 5526516.9269], [-13544119.4478, 5526519.2637], [-13544618.9385, 5526522.691], [-13544877.8676, 5526524.4046], [-13553879.4971, 5526534.6855], [-13555520.7919, 5526528.2979], [-13556079.9498, 5526526.1168], [-13559930.0463, 5526410.3658], [-13563517.6514, 5526405.8475], [-13563799.9578, 5527234.3598], [-13563724.8176, 5530611.6619], [-13563951.3541, 5540538.1048], [-13561944.5978, 5543812.3335], [-13560396.5893, 5548323.3695], [-13558982.3869, 5552537.4496], [-13558178.9947, 5557645.4171], [-13558378.8133, 5558527.2755], [-13558607.3524, 5559467.5393], [-13558720.0078, 5559716.9272], [-13559046.508, 5560419.7846], [-13558819.7514, 5569076.1929], [-13558666.7987, 5571897.7393], [-13557770.5656, 5573493.7796], [-13558749.5098, 5576413.6642], [-13559014.1166, 5578977.5417], [-13558689.3977, 5580106.4105], [-13557974.7267, 5581238.7112], [-13557154.4133, 5581990.4178], [-13556005.1508, 5582889.0679], [-13554913.8858, 5583988.1662], [-13554679.3358, 5584954.5924], [-13555615.7556, 5586032.7714], [-13555838.3946, 5586137.6796], [-13556278.3294, 5586202.1305], [-13558326.2743, 5586004.8584], [-13560094.9189, 5587400.1229], [-13560396.4835, 5587763.2061], [-13560845.8804, 5588491.1416], [-13560957.3114, 5589316.7079], [-13560972.8962, 5590112.228], [-13560966.3284, 5590145.3304], [-13560958.9813, 5590157.8811], [-13560941.7268, 5590187.2185], [-13560016.6618, 5591575.5965], [-13559412.0856, 5591964.7383], [-13555628.781, 5593226.5833], [-13553482.875, 5594786.2035], [-13550374.1665, 5594786.2039], [-13550374.2777, 5594290.2103], [-13550374.1664, 5594095.5874], [-13549916.6432, 5594094.6457], [-13542839.0601, 5594086.7991], [-13539046.0705, 5594082.8758], [-13537959.9261, 5594081.7773], [-13537393.1985, 5594081.3065], [-13522217.3438, 5594061.0619], [-13516530.5867, 5594013.8203], [-13511628.8548, 5593985.4129], [-13504547.9321, 5593961.7144], [-13498865.7391, 5594003.9349], [-13489197.3058, 5594048.0395], [-13487486.1023, 5594045.5285], [-13481224.6026, 5594030.1481], [-13478463.99, 5593754.0756], [-13460026.585, 5593694.1248], [-13455048.154, 5593669.4852], [-13443201.3092, 5593619.2646], [-13442231.1596, 5593615.1842], [-13441513.5941, 5593612.2023], [-13441479.3077, 5593612.2023], [-13427389.1521, 5593621.464], [-13423435.5284, 5593569.5162], [-13421672.0048, 5593551.9388], [-13414520.8395, 5593481.1588], [-13413998.5283, 5593478.4909], [-13412363.69, 5593470.4871], [-13403007.5079, 5593485.8687], [-13399689.0733, 5593507.0563], [-13400032.0487, 5593196.944], [-13400496.4736, 5592661.1777], [-13401034.8147, 5591958.3269], [-13403304.8417, 5588849.7415], [-13401750.8209, 5585656.2936], [-13401488.3293, 5584740.7493], [-13401299.8653, 5584003.395], [-13401275.2637, 5583859.4745], [-13401281.9423, 5580137.3043], [-13401287.8421, 5579015.7962], [-13401299.6417, 5576773.1962], [-13401306.3207, 5575507.6897], [-13401335.1517, 5570048.7226], [-13401285.0559, 5555601.1258], [-13401372.2188, 5553143.6823], [-13406635.9618, 5553053.2161], [-13407807.7109, 5553016.1863], [-13408052.6138, 5553008.6866], [-13409232.378, 5552998.5307], [-13410190.839, 5552990.7184], [-13413892.9919, 5552969.7814], [-13414206.1337, 5552968.5314], [-13424761.2269, 5552987.4353], [-13437827.3543, 5552930.2489], [-13450203.5233, 5552951.9648], [-13450462.8978, 5552905.8736], [-13450443.0827, 5551146.7694], [-13450426.0506, 5549658.3582], [-13450408.0166, 5548041.0475], [-13450386.9769, 5545880.0846], [-13450378.7391, 5544360.5356], [-13450377.8484, 5543629.8874], [-13450378.5161, 5541851.5093], [-13450382.4121, 5540984.5296], [-13450389.9817, 5539553.164], [-13450390.4269, 5539480.9308], [-13462136.8615, 5539457.2156], [-13468415.8384, 5539478.5882], [-13468424.7439, 5538467.8516], [-13468423.9645, 5537728.4734], [-13468419.8455, 5536266.1165], [-13468411.1623, 5533838.6795], [-13468407.0433, 5533225.0226], [-13468400.4754, 5532304.7706], [-13468391.5696, 5531038.7381], [-13468381.8846, 5529438.6013], [-13468365.8542, 5526037.4319], [-13468565.2274, 5526037.4319], [-13468712.9484, 5526037.4318], [-13470207.8581, 5526040.3915], [-13476649.1388, 5526064.6924], [-13481014.3107, 5526086.0338], [-13481602.6343, 5526089.3052], [-13481630.5755, 5526089.6167], [-13487357.519, 5526093.0432], [-13502043.0113, 5526446.8279], [-13513910.2275, 5526480.1649]]], 'spatialReference': {'wkid': 102100, 'latestWkid': 3857}}], 'FM-5611-MT': [{'rings': [[[-12631038.7077, 6037032.6359], [-12631032.8083, 6040575.701], [-12627284.235, 6040592.8708], [-12625751.6993, 6040592.871], [-12624902.7767, 6040592.8712], [-12624307.4399, 6040592.8713], [-12623720.6748, 6040592.8713], [-12623286.4173, 6040592.8714], [-12623098.3987, 6040592.8714], [-12622521.3183, 6040592.8715], [-12622291.8888, 6040592.8716], [-12622222.4254, 6040592.8716], [-12621925.9816, 6040592.8716], [-12621393.429, 6040592.8717], [-12620735.1967, 6040592.8718], [-12618504.7989, 6040592.8721], [-12618292.29, 6040592.8722], [-12618004.0838, 6040592.8722], [-12617758.2903, 6040592.8722], [-12617148.3707, 6040592.8723], [-12615376.8319, 6040592.8726], [-12614880.792, 6039824.583], [-12595174.9004, 6039824.586], [-12594562.5316, 6039095.814], [-12592292.5036, 6035935.3224], [-12592255.6568, 6035837.148], [-12592211.3516, 6035693.1059], [-12592294.5072, 6034836.1627], [-12592512.8046, 6033933.28], [-12592944.5015, 6032583.3386], [-12593092.7788, 6030742.3545], [-12592115.2811, 6023544.9556], [-12591963.4411, 6022697.9471], [-12591953.645, 6022663.3501], [-12591879.8402, 6022531.0594], [-12591855.5725, 6022493.0036], [-12591829.7464, 6022465.4914], [-12590534.5437, 6021509.046], [-12589668.7005, 6021190.9682], [-12588884.7884, 6021134.4699], [-12586993.4699, 6021217.1589], [-12585813.8171, 6021846.2451], [-12585693.9241, 6008998.0114], [-12585693.6984, 5988534.8258], [-12585687.9085, 5979339.4643], [-12585684.9023, 5975780.3821], [-12585682.1189, 5972610.2962], [-12585678.4452, 5971629.3601], [-12585677.6659, 5971434.955], [-12584605.7702, 5971035.8404], [-12564263.2423, 5971016.6824], [-12561900.8195, 5971016.1915], [-12561144.4034, 5971016.0278], [-12556373.3604, 5971014.7183], [-12556375.6961, 5957678.9329], [-12556377.0318, 5956580.6516], [-12556384.3786, 5954219.4153], [-12556385.0464, 5954040.5994], [-12556388.4972, 5953125.0022], [-12556392.9498, 5951943.9553], [-12556393.2838, 5951857.5116], [-12556395.6214, 5951353.4101], [-12556401.4099, 5950171.7864], [-12556413.5433, 5947722.6169], [-12556334.3918, 5924659.5643], [-12556354.8732, 5914641.737], [-12556319.4736, 5914641.4116], [-12555704.4333, 5914637.0184], [-12555199.5993, 5914634.4151], [-12545721.0766, 5914621.3994], [-12545699.3693, 5914621.3994], [-12545587.2705, 5914621.3994], [-12543545.448, 5914621.7251], [-12543208.3725, 5914623.1896], [-12542173.2124, 5914633.2779], [-12542173.1011, 5915046.2543], [-12533481.7187, 5915055.3679], [-12531535.297, 5915057.3208], [-12529185.5647, 5915059.4366], [-12529004.6705, 5915059.5993], [-12528010.9212, 5915059.7622], [-12527830.4723, 5915059.7622], [-12527423.5994, 5915059.7622], [-12527423.3767, 5914506.3646], [-12527423.2654, 5914171.6744], [-12527423.2653, 5914086.4175], [-12527423.2653, 5914071.9369], [-12527423.2653, 5913986.0302], [-12527423.3766, 5913328.4161], [-12527423.9327, 5910254.4575], [-12527424.6002, 5907434.8739], [-12527424.8227, 5906255.2762], [-12527424.9339, 5905665.5369], [-12527425.0451, 5904941.7465], [-12527425.0451, 5904900.9507], [-12527424.9338, 5904597.9954], [-12527424.1543, 5902717.599], [-12527419.5897, 5899041.5027], [-12527406.7871, 5893160.1638], [-12522278.5197, 5893157.8922], [-12518180.6257, 5893157.4058], [-12515249.6942, 5893158.7047], [-12513514.7792, 5890226.3305], [-12512670.1975, 5886107.0189], [-12510562.8077, 5886104.9108], [-12509786.2428, 5886104.1], [-12509440.9297, 5886103.6135], [-12508813.8669, 5886102.6405], [-12504030.356, 5886094.0454], [-12503502.8128, 5886090.964], [-12503163.5109, 5885661.3493], [-12503115.6435, 5885587.3974], [-12503084.1401, 5885529.6634], [-12503080.5778, 5885523.0143], [-12501414.7921, 5881635.1194], [-12501082.0579, 5880818.1655], [-12500780.6044, 5878769.4694], [-12500713.3672, 5877375.6375], [-12501426.0345, 5875507.5499], [-12502659.8997, 5873505.7627], [-12502629.9545, 5872021.7643], [-12502120.2221, 5869158.1166], [-12501949.5692, 5868738.7179], [-12501444.2898, 5867584.5441], [-12500495.8473, 5865830.3478], [-12500730.2859, 5864311.8912], [-12500824.2395, 5863777.5411], [-12501725.8157, 5859805.4724], [-12501788.2653, 5854957.6104], [-12501969.7158, 5853093.4733], [-12502727.1337, 5852190.4718], [-12503058.7545, 5852026.1675], [-12503308.6668, 5851801.1224], [-12503527.6322, 5851547.0044], [-12503635.946, 5850447.5807], [-12503515.3868, 5849743.3497], [-12503167.6245, 5848773.6706], [-12502760.8629, 5848185.3581], [-12502357.2184, 5848102.0319], [-12503999.8489, 5846368.6683], [-12506094.6591, 5843384.5624], [-12508693.9696, 5842417.1965], [-12512829.6009, 5842325.0484], [-12513786.2806, 5841251.6245], [-12514944.4486, 5839824.0377], [-12516271.4882, 5837015.8456], [-12517911.1129, 5834359.299], [-12520231.6796, 5834824.7895], [-12523525.958, 5834889.447], [-12527673.7228, 5832896.3942], [-12529970.8005, 5829699.1326], [-12530704.5071, 5827109.712], [-12530662.2057, 5827074.9145], [-12530643.0587, 5827059.1267], [-12530594.6347, 5827003.5477], [-12530478.4171, 5826846.8005], [-12530375.0012, 5826621.2699], [-12530016.107, 5825661.2185], [-12529990.7261, 5825573.7559], [-12529930.5022, 5825328.7686], [-12529852.9125, 5824974.1048], [-12529854.8049, 5824912.0965], [-12529914.6946, 5823635.788], [-12529967.3487, 5823051.0829], [-12539292.6957, 5823020.1646], [-12543176.8562, 5823062.5139], [-12548344.7533, 5823142.5436], [-12549294.3088, 5823147.0522], [-12549559.3605, 5823147.8573], [-12554770.3383, 5823155.908], [-12555928.2839, 5823157.6792], [-12557668.5418, 5823158.323], [-12558832.61, 5823152.3648], [-12559983.2085, 5823146.4066], [-12562206.7045, 5823134.8123], [-12562588.753, 5823130.3035], [-12572227.2418, 5823178.2885], [-12578604.9594, 5823210.1713], [-12580348.0004, 5823216.1291], [-12580928.9769, 5823218.0614], [-12581274.5127, 5823217.4172], [-12583203.2346, 5823212.9081], [-12583192.5486, 5828497.0471], [-12583119.3027, 5844713.9243], [-12583121.418, 5846468.7582], [-12583126.205, 5848700.5017], [-12583131.3261, 5851047.1794], [-12583147.1344, 5857918.6333], [-12583303.427, 5858217.0711], [-12583372.557, 5861726.8193], [-12583402.8372, 5871185.1305], [-12583411.0753, 5874121.6744], [-12583412.8565, 5874983.6832], [-12583418.312, 5881022.8714], [-12583419.2028, 5882760.0027], [-12583419.9825, 5886237.5681], [-12583419.3153, 5890925.0419], [-12583418.9815, 5891939.4715], [-12583417.9798, 5893575.3668], [-12583411.4122, 5894848.5543], [-12583407.7387, 5895483.3504], [-12585869.6815, 5898205.0519], [-12588767.8848, 5896620.2527], [-12591156.4675, 5895749.9448], [-12591872.9198, 5895490.3305], [-12592101.5701, 5895603.9818], [-12592800.8794, 5896234.1237], [-12598260.1, 5898466.5313], [-12598795.2133, 5901490.373], [-12602420.8905, 5905853.7572], [-12606064.1561, 5909842.5092], [-12609073.7909, 5912799.518], [-12611556.5503, 5914154.4155], [-12612822.9211, 5914722.1097], [-12612865.4456, 5917667.9107], [-12612871.4582, 5926957.5648], [-12612849.4184, 5936878.4433], [-12612812.0172, 5951835.4432], [-12612806.7872, 5965443.9331], [-12612807.5664, 5965758.9919], [-12612820.3689, 5970262.7162], [-12612827.3822, 5971446.9067], [-12613225.7947, 5971446.9066], [-12614438.6208, 5971445.2687], [-12618198.3261, 5971420.3741], [-12622614.2598, 5971396.4621], [-12625505.8955, 5971385.98], [-12631028.9019, 5971372.0582], [-12631028.3457, 5973922.2536], [-12631026.8988, 5975705.984], [-12631029.685, 5997964.8244], [-12631037.9247, 6011451.8409], [-12631042.3784, 6018003.2513], [-12631041.8231, 6026230.8496], [-12631038.7077, 6037032.6359]]], 'spatialReference': {'wkid': 102100, 'latestWkid': 3857}}], 'FM-5612-CA': [{'rings': [[[-13427073.7835, 4630770.9105], [-13427007.5486, 4633117.1104], [-13426742.6083, 4634253.9124], [-13426104.525, 4635738.5479], [-13426030.4975, 4635803.4603], [-13425776.0211, 4635946.9225], [-13418250.8226, 4638768.7062], [-13414762.96, 4641528.7324], [-13411850.6192, 4642721.6154], [-13407492.3493, 4645056.0478], [-13402443.5644, 4645624.4553], [-13399631.6336, 4645302.8567], [-13395583.1657, 4645451.997], [-13389931.1404, 4646810.706], [-13383679.103, 4648946.8138], [-13380009.3442, 4650141.9827], [-13378604.158, 4649791.653], [-13376447.1199, 4649494.9561], [-13375430.4388, 4649510.4593], [-13372408.4481, 4649748.2721], [-13370684.8882, 4650283.655], [-13369137.7698, 4651090.0536], [-13366409.2174, 4651706.453], [-13366417.2316, 4643414.7009], [-13364478.1571, 4643911.6561], [-13363034.2317, 4642899.5765], [-13360561.2686, 4640850.8475], [-13361768.4172, 4639585.1461], [-13366812.4153, 4637740.6587], [-13371851.404, 4636007.7221], [-13373510.7326, 4635452.4886], [-13374035.3814, 4635237.8745], [-13375575.264, 4634224.0932], [-13377690.3346, 4632527.817], [-13378004.0329, 4632199.6707], [-13378489.6085, 4631532.6188], [-13378627.756, 4631280.1784], [-13379246.1358, 4630081.9519], [-13382470.7275, 4624957.4185], [-13387171.3045, 4619165.0737], [-13388233.6265, 4617851.2776], [-13389339.6969, 4615645.2145], [-13391471.5765, 4612144.6971], [-13395701.3833, 4605844.437], [-13399909.5941, 4599429.4108], [-13402705.6057, 4594847.5052], [-13406015.4682, 4589786.2663], [-13409743.3353, 4582904.6752], [-13413962.6783, 4579517.3686], [-13415429.3128, 4579012.2074], [-13416099.5676, 4579740.2913], [-13417332.8763, 4578372.5979], [-13417851.1798, 4576656.2443], [-13417876.3379, 4575939.1097], [-13416034.779, 4572544.1973], [-13418308.4797, 4569844.4791], [-13421010.5378, 4566334.1739], [-13426514.0625, 4561307.5692], [-13430547.7245, 4556504.6921], [-13431062.4658, 4555700.8577], [-13431715.1322, 4556480.1659], [-13431904.598, 4556697.379], [-13432614.4826, 4557499.3168], [-13433451.9393, 4558445.3981], [-13433742.7059, 4558767.545], [-13435410.8289, 4560615.1833], [-13438421.2427, 4563941.7323], [-13441976.5655, 4568302.5397], [-13443806.9924, 4570449.6855], [-13451045.0989, 4578556.3654], [-13451158.5335, 4578681.2353], [-13451254.3796, 4578784.6354], [-13451271.8568, 4578803.4227], [-13451976.2867, 4579536.8601], [-13453083.4706, 4580575.2317], [-13455861.4492, 4583509.0882], [-13455956.6274, 4583627.6582], [-13456898.8358, 4584802.1255], [-13458758.6511, 4587121.0651], [-13461472.1757, 4590369.3025], [-13461724.6484, 4590646.6227], [-13462852.6491, 4591910.8506], [-13463215.8847, 4593043.3986], [-13465400.5307, 4599887.7212], [-13467600.0935, 4606786.0157], [-13468727.6491, 4610071.3319], [-13469158.5671, 4611317.3938], [-13468401.1491, 4610982.8382], [-13466486.7874, 4610300.4409], [-13461369.6524, 4611633.3973], [-13458918.5081, 4610972.6368], [-13456395.4516, 4612680.1022], [-13453430.2341, 4614894.3191], [-13451925.8624, 4616983.9602], [-13449689.3424, 4618934.4856], [-13448337.8123, 4619995.5473], [-13445598.6845, 4620279.9057], [-13443886.0339, 4620455.2048], [-13441754.9333, 4621645.36], [-13438614.0536, 4623651.248], [-13430533.1481, 4626811.3862], [-13428846.9916, 4627546.1145], [-13427073.7835, 4630770.9105]]], 'spatialReference': {'wkid': 102100, 'latestWkid': 3857}}]}\n",
      "Tribal or Equivalent: {}\n",
      "Tribal or Equivalent: {}\n",
      "Tribal or Equivalent: {}\n"
     ]
    }
   ],
   "source": [
    "state = \"State or Equivalent\"\n",
    "county = \"County or Equivalent\"\n",
    "tribal = \"Tribal or Equivalent\" \n",
    "\n",
    "def get_geometries(entity, field):\n",
    "\n",
    "    # For the loop I want to make sure I'm only looking at the adds\n",
    "    # that correspond to the entity level I'm interested in here\n",
    "    entity_adds_df = adds_df[adds_df[\"Entity\"] == entity]\n",
    "\n",
    "    merged = entity_adds_df.merge(geometries_sdf, left_on=[key_fields_dict[field]], right_on=field)\n",
    "\n",
    "    geom_dict = merged.groupby(\"femaDeclarationString\")[\"SHAPE\"].apply(list).to_dict()\n",
    "\n",
    "    print(f\"{entity}: {geom_dict}\")\n",
    "\n",
    "\n",
    "state_geometries = get_geometries(state, state_field)\n",
    "\n",
    "county_geometries = get_geometries(county, county_field)\n",
    "\n",
    "tribal1_geometries = get_geometries(tribal, tribal_field1)\n",
    "\n",
    "tribal2_geometries = get_geometries(tribal, tribal_field2)\n",
    "\n",
    "tribal3_geometries = get_geometries(tribal, tribal_field3)"
   ]
  },
  {
   "cell_type": "markdown",
   "id": "1baaa323",
   "metadata": {},
   "source": [
    "### Coffee Break 9/5\n",
    "\n",
    "Dang ChatGPT does make coding that much faster. Not like a person isn't looking up syntax either way...but without Chat you need to wade through _close but not quite_ pages from StackOverflow etc....with Chat you can describe exactly what you're trying to do and not have to piece together info from 5 different examples that took you an hour to assemble.\n",
    "\n",
    "Okay, well, despite a super-slow start and being super-frustrated and possibly having early onset of dementia, we finished what we set out to do this morning. What's next?\n",
    "\n",
    "* Dissolve the geometries...I'll look into that now\n",
    "* For later: smash the final geometry layer for each Dec string into the Summaries df (or a derivative of the Summaries df)\n",
    "\n",
    "You know...back up...I probably don't want my data above in the format I put it in. I probably don't want a dict and the value as a list of strings. I probably want the original un-smashed version. That's what dissolve_boundaries is going to want, I'll bet...okay okay, lemme commit before I start making changes..."
   ]
  }
 ],
 "metadata": {
  "kernelspec": {
   "display_name": "arcgispro-py3",
   "language": "python",
   "name": "python3"
  },
  "language_info": {
   "codemirror_mode": {
    "name": "ipython",
    "version": 3
   },
   "file_extension": ".py",
   "mimetype": "text/x-python",
   "name": "python",
   "nbconvert_exporter": "python",
   "pygments_lexer": "ipython3",
   "version": "3.11.11"
  }
 },
 "nbformat": 4,
 "nbformat_minor": 5
}
