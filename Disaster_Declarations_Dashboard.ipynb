{
 "cells": [
  {
   "cell_type": "markdown",
   "id": "e49e7b25",
   "metadata": {},
   "source": [
    "Imports"
   ]
  },
  {
   "cell_type": "code",
   "execution_count": 1,
   "id": "7dc57611",
   "metadata": {},
   "outputs": [],
   "source": [
    "import requests\n",
    "\n",
    "from arcgis.gis import GIS\n",
    "from arcgis.features import manage_data\n",
    "\n",
    "import numpy as np\n",
    "import pandas as pd\n",
    "\n",
    "import warnings\n",
    "from urllib3.exceptions import InsecureRequestWarning\n",
    "warnings.simplefilter(\"ignore\", InsecureRequestWarning)"
   ]
  },
  {
   "cell_type": "markdown",
   "id": "bf825fb0",
   "metadata": {},
   "source": [
    "Connect to ArcGIS"
   ]
  },
  {
   "cell_type": "code",
   "execution_count": 2,
   "id": "4041c933",
   "metadata": {},
   "outputs": [],
   "source": [
    "gis = GIS(\"home\")"
   ]
  },
  {
   "cell_type": "markdown",
   "id": "122050f6",
   "metadata": {},
   "source": [
    "Get my geometries and test layer"
   ]
  },
  {
   "cell_type": "code",
   "execution_count": 3,
   "id": "3ee2370f",
   "metadata": {},
   "outputs": [],
   "source": [
    "dd_id = \"d37c3c2a6f1c4586baad82828bfc3c59\"\n",
    "dd_item = gis.content.get(dd_id)\n",
    "geometries_layer = dd_item.layers[1]\n",
    "\n",
    "# Item ID 0 is the output layer displayed in the dashboard\n",
    "# COMMENTING OUT WHILE TESTING\n",
    "#dashboard_layer = dd_item.layers[0]\n",
    "\n",
    "test_id = \"edb716da51bc4f7882d13d425ad08fd2\"\n",
    "test_item = gis.content.get(test_id)\n",
    "dashboard_layer = test_item.layers[0]"
   ]
  },
  {
   "cell_type": "markdown",
   "id": "136bc967",
   "metadata": {},
   "source": [
    "Create spatial dfs from dashboard layer and geometries layer"
   ]
  },
  {
   "cell_type": "code",
   "execution_count": 4,
   "id": "c6a0ba42",
   "metadata": {},
   "outputs": [
    {
     "data": {
      "text/plain": [
       "(4000, 19)"
      ]
     },
     "execution_count": 4,
     "metadata": {},
     "output_type": "execute_result"
    }
   ],
   "source": [
    "dashboard_sdf = dashboard_layer.query().sdf\n",
    "dashboard_sdf.shape\n",
    "\n",
    "geometries_sdf = geometries_layer.query().sdf\n",
    "geometries_sdf.shape"
   ]
  },
  {
   "cell_type": "markdown",
   "id": "85f379d3",
   "metadata": {},
   "source": [
    "Get the goods from openFEMA API"
   ]
  },
  {
   "cell_type": "code",
   "execution_count": 5,
   "id": "b9d0bef7",
   "metadata": {},
   "outputs": [],
   "source": [
    "api_url = r\"https://www.fema.gov/api/open/v2/DisasterDeclarationsSummaries?$filter=fyDeclared ge 2013&$orderby=declarationDate desc\"\n",
    "\n",
    "response = requests.get(api_url)\n",
    "data = response.json()\n",
    "summaries_df = pd.DataFrame(data[\"DisasterDeclarationsSummaries\"])"
   ]
  },
  {
   "cell_type": "markdown",
   "id": "4b78c44e",
   "metadata": {},
   "source": [
    "In summaries df, convert pseudo-date string fields to date fields..."
   ]
  },
  {
   "cell_type": "code",
   "execution_count": 6,
   "id": "7c9999ec",
   "metadata": {},
   "outputs": [],
   "source": [
    "date_columns = [\"declarationDate\", \"incidentBeginDate\", \"incidentEndDate\", \"disasterCloseoutDate\", \"lastIAFilingDate\", \"lastRefresh\"]\n",
    "\n",
    "for dc in date_columns:\n",
    "    summaries_df[dc] = pd.to_datetime(summaries_df[dc], errors=\"coerce\")"
   ]
  },
  {
   "cell_type": "markdown",
   "id": "7e042708",
   "metadata": {},
   "source": [
    "In summaries df, add & calc full fips & full tribal code fields; add & calc covid & entity fields\n",
    "* No I can't move these steps below checking for adds because the check for adds needs e.i Entity field"
   ]
  },
  {
   "cell_type": "code",
   "execution_count": 7,
   "id": "e31bd54e",
   "metadata": {},
   "outputs": [],
   "source": [
    "# Add & calc FIPS & Tribal FIPS fields\n",
    "summaries_df[\"fipsFullCode\"] = summaries_df[\"fipsStateCode\"] + summaries_df[\"fipsCountyCode\"]\n",
    "summaries_df[\"fipsTribalCode\"] = summaries_df[\"fipsStateCode\"] + summaries_df[\"placeCode\"]\n",
    "\n",
    "# Add & calc COVID-19 field\n",
    "summaries_df[\"COVID19\"] = np.where(summaries_df[\"declarationTitle\"].str.contains(\"COVID-19\"), \"Show only COVID-19\", \"Show only non-COVID-19\")\n",
    "\n",
    "# Add & calc Entity field\n",
    "entity_conditions = [\n",
    "    summaries_df[\"designatedArea\"] == \"Statewide\",\n",
    "    (summaries_df[\"designatedArea\"] != \"Statewide\") & (summaries_df[\"fipsCountyCode\"] == \"000\"),\n",
    "    (summaries_df[\"designatedArea\"] != \"Statewide\") & (summaries_df[\"fipsCountyCode\"] != \"000\")\n",
    "]\n",
    "\n",
    "entity_values = [\"State or Equivalent\", \"Tribal Area or Equivalent\", \"County or Equivalent\"]\n",
    "\n",
    "summaries_df[\"Entity\"] = np.select(entity_conditions, entity_values)"
   ]
  },
  {
   "cell_type": "markdown",
   "id": "d09eff43",
   "metadata": {},
   "source": [
    "Check whether there are adds (rows in Summaries not already in Dashboard)"
   ]
  },
  {
   "cell_type": "code",
   "execution_count": 8,
   "id": "00f171ed",
   "metadata": {},
   "outputs": [
    {
     "data": {
      "text/plain": [
       "(0, 32)"
      ]
     },
     "execution_count": 8,
     "metadata": {},
     "output_type": "execute_result"
    }
   ],
   "source": [
    "multi_key = [\"femaDeclarationString\", \"Entity\"]\n",
    "\n",
    "pre_adds = summaries_df.merge(dashboard_sdf[multi_key], on=multi_key, how=\"left\", indicator=True)\n",
    "adds_df = pre_adds[pre_adds[\"_merge\"] == \"left_only\"].drop(columns=[\"_merge\"])\n",
    "\n",
    "adds_df.shape"
   ]
  },
  {
   "cell_type": "markdown",
   "id": "66d26e2f",
   "metadata": {},
   "source": [
    "Set up vars & field mapping for use in parsing out out multi-key adds"
   ]
  },
  {
   "cell_type": "code",
   "execution_count": 9,
   "id": "4cea13b1",
   "metadata": {},
   "outputs": [],
   "source": [
    "state = \"State or Equivalent\"\n",
    "county = \"County or Equivalent\"\n",
    "tribal = \"Tribal Area or Equivalent\" \n",
    "\n",
    "state_field = \"State_FIPS\"\n",
    "county_field = \"Full_FIPS\"\n",
    "tribal_field1 = \"AIANNHFP1\"\n",
    "tribal_field2 = \"AIANNHFP2\"\n",
    "tribal_field3 = \"AIANNHFP3\"\n",
    "\n",
    "key_fields_dict = {\n",
    "    \"State_FIPS\": \"fipsStateCode\",\n",
    "    \"Full_FIPS\": \"fipsFullCode\",\n",
    "    \"AIANNHFP1\": \"fipsTribalCode\",\n",
    "    \"AIANNHFP2\": \"fipsTribalCode\", # No idea why there are three of these...or why the Summaries sometimes use 2 and 3...\n",
    "    \"AIANNHFP3\": \"fipsTribalCode\" # What a pain in the @$$...\n",
    "}"
   ]
  },
  {
   "cell_type": "markdown",
   "id": "d515e5e4",
   "metadata": {},
   "source": [
    "Get the geometries for all multi-key combos"
   ]
  },
  {
   "cell_type": "code",
   "execution_count": 10,
   "id": "b1c85969",
   "metadata": {},
   "outputs": [],
   "source": [
    "def get_geometries(entity, field):\n",
    "\n",
    "    # Checking Dec-string-per-entity\n",
    "    entity_adds_df = adds_df[adds_df[\"Entity\"] == entity]\n",
    "\n",
    "    # NEED to specify an empty string for at least one of the suffixes here;\n",
    "    # Otherwise I have no \"Entity\" field and my Dashboard layer and adds feature collection won't have matching fields\n",
    "    merged = entity_adds_df.merge(geometries_sdf, left_on=[key_fields_dict[field]], right_on=field, suffixes=('', '_2'))\n",
    "\n",
    "    return merged\n",
    "\n",
    "state_geometries = get_geometries(state, state_field)\n",
    "county_geometries = get_geometries(county, county_field)\n",
    "tribal1_geometries = get_geometries(tribal, tribal_field1)\n",
    "tribal2_geometries = get_geometries(tribal, tribal_field2)\n",
    "tribal3_geometries = get_geometries(tribal, tribal_field3)\n",
    "\n",
    "# Stack all geometries\n",
    "adds_geometries = pd.concat([state_geometries, county_geometries, tribal1_geometries, tribal2_geometries, tribal3_geometries])"
   ]
  },
  {
   "cell_type": "markdown",
   "id": "8ef9789a",
   "metadata": {},
   "source": [
    "If there are no rows to quit, message & set switch to disable remaining blocks"
   ]
  },
  {
   "cell_type": "code",
   "execution_count": 11,
   "id": "ddbfba12",
   "metadata": {},
   "outputs": [
    {
     "name": "stdout",
     "output_type": "stream",
     "text": [
      "Found no new Declarations to add! We're done here.\n"
     ]
    }
   ],
   "source": [
    "proceed = True\n",
    "\n",
    "# If no geometries to add, quit\n",
    "if adds_geometries.empty:\n",
    "    proceed = False\n",
    "    print(\"Found no new Declarations to add! We're done here.\")"
   ]
  },
  {
   "cell_type": "markdown",
   "id": "1f5a955b",
   "metadata": {},
   "source": [
    "If there are adds, go ahead with the dissolve"
   ]
  },
  {
   "cell_type": "code",
   "execution_count": 12,
   "id": "1306bd1f",
   "metadata": {},
   "outputs": [],
   "source": [
    "if proceed:\n",
    "\n",
    "    adds_feature_collection = adds_geometries.spatial.to_feature_collection()\n",
    "\n",
    "    remove_fields = [\"OBJECTID\", \"Shape__Area\", \"Shape__Length\", \"SHAPE\"]\n",
    "    dissolve_fields = [f[\"name\"] for f in dashboard_layer.properties.fields if not f[\"name\"] in remove_fields]\n",
    "\n",
    "    adds_dissolved = manage_data.dissolve_boundaries(adds_feature_collection, dissolve_fields=dissolve_fields)"
   ]
  },
  {
   "cell_type": "markdown",
   "id": "b3b2431f",
   "metadata": {},
   "source": [
    "...and finally add the features to the dashboard layer"
   ]
  },
  {
   "cell_type": "code",
   "execution_count": 13,
   "id": "e0c16524",
   "metadata": {},
   "outputs": [],
   "source": [
    "if proceed:\n",
    "    \n",
    "    adds_features = adds_dissolved.query().features\n",
    "    message = dashboard_layer.edit_features(adds_features)\n",
    "\n",
    "    message"
   ]
  }
 ],
 "metadata": {
  "kernelspec": {
   "display_name": "arcgispro-py3",
   "language": "python",
   "name": "python3"
  },
  "language_info": {
   "codemirror_mode": {
    "name": "ipython",
    "version": 3
   },
   "file_extension": ".py",
   "mimetype": "text/x-python",
   "name": "python",
   "nbconvert_exporter": "python",
   "pygments_lexer": "ipython3",
   "version": "3.11.11"
  }
 },
 "nbformat": 4,
 "nbformat_minor": 5
}
