{
 "cells": [
  {
   "cell_type": "markdown",
   "id": "3b3eaa42",
   "metadata": {},
   "source": [
    "### Log into ArcGIS Online"
   ]
  },
  {
   "cell_type": "code",
   "execution_count": 2,
   "id": "1d321d1e",
   "metadata": {},
   "outputs": [],
   "source": [
    "from arcgis.gis import GIS\n",
    "from datetime import datetime\n",
    "\n",
    "gis = GIS(\"home\")"
   ]
  },
  {
   "cell_type": "markdown",
   "id": "c9c1a10d",
   "metadata": {},
   "source": [
    "### WTF is the user.lastLogin property not just a datetime object???\n",
    "Oh well we'll deal with the int..."
   ]
  },
  {
   "cell_type": "code",
   "execution_count": 3,
   "id": "564b5a43",
   "metadata": {},
   "outputs": [],
   "source": [
    "# Get days since last login from datetime object\n",
    "def get_time_delta(last_login):\n",
    "\n",
    "    # user property is a Unix timestamp in miliseconds; convert to datetime object\n",
    "    login_datetime = datetime.fromtimestamp(last_login / 1000)\n",
    "\n",
    "    # Get time delta in days since last login\n",
    "    delta_days = (datetime.now() - login_datetime).days\n",
    "\n",
    "    return delta_days"
   ]
  },
  {
   "cell_type": "markdown",
   "id": "c2336ec5",
   "metadata": {},
   "source": [
    "### Get the info for my tables in AGOL\n",
    "\n"
   ]
  },
  {
   "cell_type": "code",
   "execution_count": 4,
   "id": "2be8b68e",
   "metadata": {},
   "outputs": [],
   "source": [
    "cm_id = \"03209b91e33f4c588007319d18cd6e70\"\n",
    "cm_item = gis.content.get(cm_id)\n",
    "\n",
    "users_table = cm_item.tables[0]\n",
    "inventory_table = cm_item.tables[1]\n",
    "dependencies_table = cm_item.tables[2]"
   ]
  },
  {
   "cell_type": "markdown",
   "id": "645f1ad7",
   "metadata": {},
   "source": [
    "### Assemble users to be added to User table"
   ]
  },
  {
   "cell_type": "code",
   "execution_count": 38,
   "id": "21d89eeb",
   "metadata": {},
   "outputs": [
    {
     "name": "stdout",
     "output_type": "stream",
     "text": [
      "Number of users to add to table: 1\n",
      "[{'attributes': {'username': 'AlderMaps', 'user_email': 'misti@aldermaps.com', 'last_login': 1758311377000, 'days_since_last_login': 0}}]\n"
     ]
    }
   ],
   "source": [
    "# Get all users in the org\n",
    "all_users = gis.users.search(query=\"*\", max_users=10000)\n",
    "\n",
    "# initialize empty dict to hold users info for AGOL table\n",
    "users_list = []\n",
    "\n",
    "# Loop through users; populate users dictionary\n",
    "for user in all_users:\n",
    "\n",
    "    # Initialize two dicts I need for each row to be added to users table\n",
    "    update_dict = {}\n",
    "    user_dict = {}\n",
    "\n",
    "    # Add k/v pairs to the inner dict\n",
    "    user_dict[\"username\"] = user.username\n",
    "    user_dict[\"user_email\"] = user.email\n",
    "    user_dict[\"last_login\"] = user.lastLogin\n",
    "    user_dict[\"days_since_last_login\"] = get_time_delta(user.lastLogin)\n",
    "\n",
    "    # Add inner dict to outer dict w/key \"attributes\"\n",
    "    update_dict[\"attributes\"] = user_dict\n",
    "\n",
    "    # Append the user dict to the users list\n",
    "    users_list.append(update_dict)\n",
    "\n",
    "print(f\"Number of users to add to table: {len(users_list)}\")\n",
    "\n",
    "print(users_list)"
   ]
  },
  {
   "cell_type": "code",
   "execution_count": 39,
   "id": "80d1fac1",
   "metadata": {},
   "outputs": [
    {
     "data": {
      "text/plain": [
       "[{'attributes': {'username': 'AlderMaps',\n",
       "   'user_email': 'misti@aldermaps.com',\n",
       "   'last_login': 1758311377000,\n",
       "   'days_since_last_login': 0}},\n",
       " {'attributes': {'username': 'Matt',\n",
       "   'user_email': 'matt@aldermaps.com',\n",
       "   'last_login': 1740205197408,\n",
       "   'days_since_last_login': 209}},\n",
       " {'attributes': {'username': 'Eric',\n",
       "   'user_email': 'eric@aldermaps.com',\n",
       "   'last_login': 1726304097308,\n",
       "   'days_since_last_login': 370}},\n",
       " {'attributes': {'username': 'Alanda',\n",
       "   'user_email': 'alanda@aldermaps.com',\n",
       "   'last_login': 1757318197908,\n",
       "   'days_since_last_login': 11}},\n",
       " {'attributes': {'username': 'Christine',\n",
       "   'user_email': 'christine@aldermaps.com',\n",
       "   'last_login': 1748305167908,\n",
       "   'days_since_last_login': 115}},\n",
       " {'attributes': {'username': 'Khaled',\n",
       "   'user_email': 'khaled@aldermaps.com',\n",
       "   'last_login': 1756218197908,\n",
       "   'days_since_last_login': 24}},\n",
       " {'attributes': {'username': 'Xiaoyi',\n",
       "   'user_email': 'xiaoyi@aldermaps.com',\n",
       "   'last_login': 1755218197908,\n",
       "   'days_since_last_login': 35}}]"
      ]
     },
     "execution_count": 39,
     "metadata": {},
     "output_type": "execute_result"
    }
   ],
   "source": [
    "# Fake users data for use in creating Dashboard\n",
    "# Because a (Personal Use License) org with a single user makes for a lame bar chart\n",
    "\n",
    "ts = [1740205197408, 1726304097308, 1757318197908, 1748305167908, 1756218197908, 1755218197908]\n",
    "\n",
    "def get_fake_users():\n",
    "\n",
    "    users_list = [\n",
    "        {\n",
    "            \"attributes\": {\n",
    "            \"username\": \"Matt\", \n",
    "            \"user_email\": \"matt@aldermaps.com\",\n",
    "            \"last_login\": ts[0],\n",
    "            \"days_since_last_login\": get_time_delta(ts[0])\n",
    "            }\n",
    "        },\n",
    "        {\n",
    "            \"attributes\": {\n",
    "            \"username\": \"Eric\", \n",
    "            \"user_email\": \"eric@aldermaps.com\", \n",
    "            \"last_login\": ts[1],\n",
    "            \"days_since_last_login\": get_time_delta(ts[1])\n",
    "            }\n",
    "        },\n",
    "        {\n",
    "            \"attributes\": {\n",
    "            \"username\": \"Alanda\", \n",
    "            \"user_email\": \"alanda@aldermaps.com\", \n",
    "            \"last_login\": ts[2],\n",
    "            \"days_since_last_login\": get_time_delta(ts[2])\n",
    "            }\n",
    "        },\n",
    "        {\n",
    "            \"attributes\": {\n",
    "            \"username\": \"Christine\", \n",
    "            \"user_email\": \"christine@aldermaps.com\", \n",
    "            \"last_login\": ts[3],\n",
    "            \"days_since_last_login\": get_time_delta(ts[3])\n",
    "            }\n",
    "        },\n",
    "        {\n",
    "            \"attributes\": {\n",
    "            \"username\": \"Khaled\", \n",
    "            \"user_email\": \"khaled@aldermaps.com\", \n",
    "            \"last_login\": ts[4],\n",
    "            \"days_since_last_login\": get_time_delta(ts[4])\n",
    "            }\n",
    "        },\n",
    "        {\n",
    "            \"attributes\": {\n",
    "            \"username\": \"Xiaoyi\", \n",
    "            \"user_email\": \"xiaoyi@aldermaps.com\", \n",
    "            \"last_login\": ts[5],\n",
    "            \"days_since_last_login\": get_time_delta(ts[5])\n",
    "            }\n",
    "        }\n",
    "    ]\n",
    "\n",
    "    return users_list\n",
    "\n",
    "fake_users = get_fake_users()\n",
    "\n",
    "# Tack my list of fake user dicts onto my own dict\n",
    "# To disable addition of fake users, simply comment out the line below\n",
    "users_list = users_list + fake_users\n",
    "\n",
    "users_list"
   ]
  },
  {
   "cell_type": "markdown",
   "id": "57e68c01",
   "metadata": {},
   "source": [
    "### Write users to user table"
   ]
  },
  {
   "cell_type": "code",
   "execution_count": 40,
   "id": "c4be18a3",
   "metadata": {},
   "outputs": [],
   "source": [
    "# This script will effectively overwrite the output of the last run, \n",
    "# so before writing any new records we simply truncate tables\n",
    "users_table.manager.truncate()\n",
    "\n",
    "# Add users to table\n",
    "users_update = users_table.edit_features(adds=users_list)"
   ]
  },
  {
   "cell_type": "markdown",
   "id": "fa234806",
   "metadata": {},
   "source": [
    "### Assemble item info to be added to Inventory table"
   ]
  }
 ],
 "metadata": {
  "kernelspec": {
   "display_name": "arcgispro-py3",
   "language": "python",
   "name": "python3"
  },
  "language_info": {
   "codemirror_mode": {
    "name": "ipython",
    "version": 3
   },
   "file_extension": ".py",
   "mimetype": "text/x-python",
   "name": "python",
   "nbconvert_exporter": "python",
   "pygments_lexer": "ipython3",
   "version": "3.11.11"
  }
 },
 "nbformat": 4,
 "nbformat_minor": 5
}
