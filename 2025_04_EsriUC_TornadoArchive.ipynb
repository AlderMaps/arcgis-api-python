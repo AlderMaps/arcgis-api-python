{
 "cells": [
  {
   "cell_type": "code",
   "execution_count": null,
   "metadata": {},
   "outputs": [
    {
     "name": "stdout",
     "output_type": "stream",
     "text": [
      "Tornado Warnings in current live layer: 2\n",
      "Tornado Warnings not already in Historical: 0\n",
      "Tornado capture successfully run at 4/3/2025 3:41:05 PM\n",
      "\n",
      "Tornado Warnings in current live layer: 2\n",
      "Tornado Warnings not already in Historical: 0\n",
      "Tornado capture successfully run at 4/3/2025 3:46:06 PM\n",
      "\n",
      "Tornado Warnings in current live layer: 2\n",
      "Tornado Warnings not already in Historical: 0\n",
      "Tornado capture successfully run at 4/3/2025 3:51:07 PM\n",
      "\n",
      "Tornado Warnings in current live layer: 2\n",
      "Tornado Warnings not already in Historical: 0\n",
      "Tornado capture successfully run at 4/3/2025 3:56:08 PM\n",
      "\n",
      "Tornado Warnings in current live layer: 2\n",
      "Tornado Warnings not already in Historical: 0\n",
      "Tornado capture successfully run at 4/3/2025 4:01:09 PM\n",
      "\n",
      "Tornado Warnings in current live layer: 2\n",
      "Tornado Warnings not already in Historical: 0\n",
      "Tornado capture successfully run at 4/3/2025 4:06:10 PM\n",
      "\n",
      "Tornado Warnings in current live layer: 2\n",
      "Tornado Warnings not already in Historical: 0\n",
      "Tornado capture successfully run at 4/3/2025 4:11:12 PM\n",
      "\n",
      "Tornado Warnings in current live layer: 2\n",
      "Tornado Warnings not already in Historical: 0\n",
      "Tornado capture successfully run at 4/3/2025 4:16:13 PM\n",
      "\n",
      "Tornado Warnings in current live layer: 2\n",
      "Tornado Warnings not already in Historical: 1\n",
      "Tornado capture successfully run at 4/3/2025 4:21:14 PM\n",
      "\n"
     ]
    }
   ],
   "source": [
    "# # Imports\n",
    "\n",
    "from arcgis.gis import GIS\n",
    "gis = GIS(\"home\")\n",
    "from arcgis.features import FeatureLayer\n",
    "\n",
    "from datetime import datetime\n",
    "import time\n",
    "\n",
    "start_date = datetime.now().day\n",
    "\n",
    "# Parameters\n",
    "\n",
    "# National Weather Service \"CurrentWarnings\" layer; includes Tornadoes and other severe/extreme events\n",
    "# Nix that - using the version from Esri over the original agency layer ONCE AGAIN...because Esri just does it better.\n",
    "tornado_live_url = r\"https://services9.arcgis.com/RHVPKKiFTONKtxq3/arcgis/rest/services/NWS_Watches_Warnings_v1/FeatureServer/8\"\n",
    "tornado_live_layer = FeatureLayer(tornado_live_url)\n",
    "\n",
    "# Layer in which to copy historical tornado warnings\n",
    "tornado_archive_layer = gis.content.get(\"86b302d398774ea6a90809dc8a264f93\").layers[0]\n",
    "\n",
    "# Query to grab only tornado warnings from the above layer\n",
    "# If I ever want more than one warning, use IN, e.g.: query = \"Event IN ('Tornado Warning', 'Flash Flood Warning')\"\n",
    "query = \"Event = 'Tornado Warning'\"\n",
    "\n",
    "while datetime.now().day == start_date:\n",
    "\n",
    "    # Trying to remember why I used both .to_dict() and .features...\n",
    "    tornado_live_features = tornado_live_layer.query(where=query).features\n",
    "\n",
    "    # # Update NWS Watches Warnings (Historical) Layer\n",
    "    if tornado_live_features:\n",
    "\n",
    "        # List of Uids from NWS Watches and Warnings (historical hosted)\n",
    "        tornado_archive_ids = [i.attributes[\"Uid\"] for i in tornado_archive_layer.query().features]\n",
    "\n",
    "        # Construct list of features that are NOT already in NWS Hist layer\n",
    "        tornado_features_new = [n for n in tornado_live_features if not n.attributes[\"Uid\"] in tornado_archive_ids]\n",
    "\n",
    "        print(f\"Tornado Warnings in current live layer: {len(tornado_live_features)}\")\n",
    "        print(f\"Tornado Warnings not already in Historical: {len(tornado_features_new)}\")\n",
    "\n",
    "        # Cram the trimmed list of Features into NWS Historical layer\n",
    "        if tornado_features_new:\n",
    "            update_tornado_archive = tornado_archive_layer.edit_features(adds=tornado_features_new)\n",
    "        else:\n",
    "            update_tornado_archive = \"No features to add to NWS Historical layer\"\n",
    "\n",
    "        # Print NWS Watches Warnings that have been added to Hist layer\n",
    "        update_tornado_archive\n",
    "\n",
    "    else:\n",
    "        print(\"No new tornado warnings to add!\")\n",
    "\n",
    "    ########## ########## ########## ########## ########## ##########\n",
    "\n",
    "    # # Delete all rows in Impacted Historical and NWS Older than 100 Days\n",
    "    # tornado_archive_layer.delete_features(where=\"End_ <= CURRENT_TIMESTAMP - 365\")\n",
    "\n",
    "    print(f\"Tornado capture successfully run at {datetime.now().strftime('%c')}\\n\")\n",
    "\n",
    "    time.sleep(300)\n"
   ]
  },
  {
   "cell_type": "code",
   "execution_count": 6,
   "metadata": {},
   "outputs": [
    {
     "name": "stdout",
     "output_type": "stream",
     "text": [
      "6\n"
     ]
    }
   ],
   "source": [
    "from datetime import datetime\n",
    "\n",
    "now = datetime.now()\n",
    "\n",
    "print(now.minute)"
   ]
  }
 ],
 "metadata": {
  "kernelspec": {
   "display_name": "arcgispro-py3",
   "language": "python",
   "name": "python3"
  },
  "language_info": {
   "codemirror_mode": {
    "name": "ipython",
    "version": 3
   },
   "file_extension": ".py",
   "mimetype": "text/x-python",
   "name": "python",
   "nbconvert_exporter": "python",
   "pygments_lexer": "ipython3",
   "version": "3.11.10"
  }
 },
 "nbformat": 4,
 "nbformat_minor": 4
}
